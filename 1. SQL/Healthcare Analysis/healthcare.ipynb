{
    "metadata": {
        "kernelspec": {
            "name": "SQL",
            "display_name": "SQL",
            "language": "sql"
        },
        "language_info": {
            "name": "sql",
            "version": ""
        }
    },
    "nbformat_minor": 2,
    "nbformat": 4,
    "cells": [
        {
            "cell_type": "markdown",
            "source": [
                "Data source: [https://www.kaggle.com/datasets/kanchana1990/colorado-healthcare-decoding-no-show-pattern](https:\\www.kaggle.com\\datasets\\kanchana1990\\colorado-healthcare-decoding-no-show-pattern)s"
            ],
            "metadata": {
                "azdata_cell_guid": "5978f802-e9ec-4de8-9a34-a3878f9759ec"
            },
            "attachments": {}
        },
        {
            "cell_type": "code",
            "source": [
                "SELECT TOP 10\r\n",
                "    *\r\n",
                "FROM\r\n",
                "    test.dbo.healthcare_dataset"
            ],
            "metadata": {
                "azdata_cell_guid": "4971fa69-8692-48dc-9773-4245e73ffdda",
                "language": "sql",
                "tags": [
                    "hide_input"
                ]
            },
            "outputs": [
                {
                    "output_type": "display_data",
                    "data": {
                        "text/html": "(10 rows affected)"
                    },
                    "metadata": {}
                },
                {
                    "output_type": "display_data",
                    "data": {
                        "text/html": "Total execution time: 00:00:00.006"
                    },
                    "metadata": {}
                },
                {
                    "output_type": "execute_result",
                    "execution_count": 19,
                    "data": {
                        "application/vnd.dataresource+json": {
                            "schema": {
                                "fields": [
                                    {
                                        "name": "Patient_ID"
                                    },
                                    {
                                        "name": "Age"
                                    },
                                    {
                                        "name": "Gender"
                                    },
                                    {
                                        "name": "Insurance_Type"
                                    },
                                    {
                                        "name": "Chronic_Disease"
                                    },
                                    {
                                        "name": "Mental_Health_Status"
                                    },
                                    {
                                        "name": "Employment_Status"
                                    },
                                    {
                                        "name": "Education_Level"
                                    },
                                    {
                                        "name": "Transportation_Access"
                                    },
                                    {
                                        "name": "Distance_from_Facility"
                                    },
                                    {
                                        "name": "Area_Type"
                                    },
                                    {
                                        "name": "Booking_Date"
                                    },
                                    {
                                        "name": "Appointment_Date"
                                    },
                                    {
                                        "name": "Appointment_Outcome"
                                    }
                                ]
                            },
                            "data": [
                                {
                                    "Patient_ID": "75763",
                                    "Age": "93",
                                    "Gender": "Male",
                                    "Insurance_Type": "Medicare",
                                    "Chronic_Disease": "0",
                                    "Mental_Health_Status": "1",
                                    "Employment_Status": "Student",
                                    "Education_Level": "Advanced Degree",
                                    "Transportation_Access": "1",
                                    "Distance_from_Facility": "37.78503801701182",
                                    "Area_Type": "Suburban",
                                    "Booking_Date": "2023-11-04",
                                    "Appointment_Date": "2024-08-15",
                                    "Appointment_Outcome": "Show"
                                },
                                {
                                    "Patient_ID": "84945",
                                    "Age": "52",
                                    "Gender": "Male",
                                    "Insurance_Type": "Uninsured",
                                    "Chronic_Disease": "0",
                                    "Mental_Health_Status": "0",
                                    "Employment_Status": "Employed",
                                    "Education_Level": "College",
                                    "Transportation_Access": "1",
                                    "Distance_from_Facility": "NULL",
                                    "Area_Type": "Rural",
                                    "Booking_Date": "2023-10-28",
                                    "Appointment_Date": "2024-07-11",
                                    "Appointment_Outcome": "No-Show"
                                },
                                {
                                    "Patient_ID": "88559",
                                    "Age": "8",
                                    "Gender": "Male",
                                    "Insurance_Type": "Medicare",
                                    "Chronic_Disease": "1",
                                    "Mental_Health_Status": "NULL",
                                    "Employment_Status": "NULL",
                                    "Education_Level": "Advanced Degree",
                                    "Transportation_Access": "1",
                                    "Distance_from_Facility": "27.277653823064092",
                                    "Area_Type": "Rural",
                                    "Booking_Date": "2023-02-12",
                                    "Appointment_Date": "2024-10-26",
                                    "Appointment_Outcome": "Show"
                                },
                                {
                                    "Patient_ID": "72217",
                                    "Age": "5",
                                    "Gender": "Other",
                                    "Insurance_Type": "Medicare",
                                    "Chronic_Disease": "0",
                                    "Mental_Health_Status": "1",
                                    "Employment_Status": "Student",
                                    "Education_Level": "College",
                                    "Transportation_Access": "1",
                                    "Distance_from_Facility": "44.618708404834905",
                                    "Area_Type": "NULL",
                                    "Booking_Date": "2023-01-30",
                                    "Appointment_Date": "2024-01-31",
                                    "Appointment_Outcome": "Show"
                                },
                                {
                                    "Patient_ID": "44071",
                                    "Age": "76",
                                    "Gender": "Male",
                                    "Insurance_Type": "Uninsured",
                                    "Chronic_Disease": "1",
                                    "Mental_Health_Status": "0",
                                    "Employment_Status": "Employed",
                                    "Education_Level": "Advanced Degree",
                                    "Transportation_Access": "0",
                                    "Distance_from_Facility": "12.568496687483455",
                                    "Area_Type": "Urban",
                                    "Booking_Date": "2023-11-27",
                                    "Appointment_Date": "2024-03-03",
                                    "Appointment_Outcome": "NULL"
                                },
                                {
                                    "Patient_ID": "76828",
                                    "Age": "86",
                                    "Gender": "NULL",
                                    "Insurance_Type": "NULL",
                                    "Chronic_Disease": "0",
                                    "Mental_Health_Status": "0",
                                    "Employment_Status": "Retired",
                                    "Education_Level": "High School",
                                    "Transportation_Access": "1",
                                    "Distance_from_Facility": "27.24322102908982",
                                    "Area_Type": "NULL",
                                    "Booking_Date": "2023-02-03",
                                    "Appointment_Date": "2023-12-22",
                                    "Appointment_Outcome": "NULL"
                                },
                                {
                                    "Patient_ID": "34403",
                                    "Age": "15",
                                    "Gender": "Female",
                                    "Insurance_Type": "Medicaid",
                                    "Chronic_Disease": "NULL",
                                    "Mental_Health_Status": "0",
                                    "Employment_Status": "Unemployed",
                                    "Education_Level": "High School",
                                    "Transportation_Access": "1",
                                    "Distance_from_Facility": "34.033755495646595",
                                    "Area_Type": "Suburban",
                                    "Booking_Date": "2023-08-13",
                                    "Appointment_Date": "2024-07-23",
                                    "Appointment_Outcome": "Show"
                                },
                                {
                                    "Patient_ID": "80253",
                                    "Age": "68",
                                    "Gender": "NULL",
                                    "Insurance_Type": "Uninsured",
                                    "Chronic_Disease": "0",
                                    "Mental_Health_Status": "1",
                                    "Employment_Status": "Employed",
                                    "Education_Level": "None",
                                    "Transportation_Access": "0",
                                    "Distance_from_Facility": "46.61934145581211",
                                    "Area_Type": "Rural",
                                    "Booking_Date": "2024-08-01",
                                    "Appointment_Date": "2024-10-22",
                                    "Appointment_Outcome": "No-Show"
                                },
                                {
                                    "Patient_ID": "65628",
                                    "Age": "43",
                                    "Gender": "Female",
                                    "Insurance_Type": "Private",
                                    "Chronic_Disease": "1",
                                    "Mental_Health_Status": "1",
                                    "Employment_Status": "Student",
                                    "Education_Level": "None",
                                    "Transportation_Access": "1",
                                    "Distance_from_Facility": "NULL",
                                    "Area_Type": "NULL",
                                    "Booking_Date": "2022-11-24",
                                    "Appointment_Date": "2024-09-22",
                                    "Appointment_Outcome": "Show"
                                },
                                {
                                    "Patient_ID": "99220",
                                    "Age": "7",
                                    "Gender": "Male",
                                    "Insurance_Type": "Uninsured",
                                    "Chronic_Disease": "NULL",
                                    "Mental_Health_Status": "0",
                                    "Employment_Status": "Student",
                                    "Education_Level": "High School",
                                    "Transportation_Access": "1",
                                    "Distance_from_Facility": "46.55755754570776",
                                    "Area_Type": "Suburban",
                                    "Booking_Date": "2023-03-15",
                                    "Appointment_Date": "2024-09-30",
                                    "Appointment_Outcome": "Show"
                                }
                            ]
                        },
                        "text/html": "<table><tr><th>Patient_ID</th><th>Age</th><th>Gender</th><th>Insurance_Type</th><th>Chronic_Disease</th><th>Mental_Health_Status</th><th>Employment_Status</th><th>Education_Level</th><th>Transportation_Access</th><th>Distance_from_Facility</th><th>Area_Type</th><th>Booking_Date</th><th>Appointment_Date</th><th>Appointment_Outcome</th></tr><tr><td>75763</td><td>93</td><td>Male</td><td>Medicare</td><td>0</td><td>1</td><td>Student</td><td>Advanced Degree</td><td>1</td><td>37.78503801701182</td><td>Suburban</td><td>2023-11-04</td><td>2024-08-15</td><td>Show</td></tr><tr><td>84945</td><td>52</td><td>Male</td><td>Uninsured</td><td>0</td><td>0</td><td>Employed</td><td>College</td><td>1</td><td>NULL</td><td>Rural</td><td>2023-10-28</td><td>2024-07-11</td><td>No-Show</td></tr><tr><td>88559</td><td>8</td><td>Male</td><td>Medicare</td><td>1</td><td>NULL</td><td>NULL</td><td>Advanced Degree</td><td>1</td><td>27.277653823064092</td><td>Rural</td><td>2023-02-12</td><td>2024-10-26</td><td>Show</td></tr><tr><td>72217</td><td>5</td><td>Other</td><td>Medicare</td><td>0</td><td>1</td><td>Student</td><td>College</td><td>1</td><td>44.618708404834905</td><td>NULL</td><td>2023-01-30</td><td>2024-01-31</td><td>Show</td></tr><tr><td>44071</td><td>76</td><td>Male</td><td>Uninsured</td><td>1</td><td>0</td><td>Employed</td><td>Advanced Degree</td><td>0</td><td>12.568496687483455</td><td>Urban</td><td>2023-11-27</td><td>2024-03-03</td><td>NULL</td></tr><tr><td>76828</td><td>86</td><td>NULL</td><td>NULL</td><td>0</td><td>0</td><td>Retired</td><td>High School</td><td>1</td><td>27.24322102908982</td><td>NULL</td><td>2023-02-03</td><td>2023-12-22</td><td>NULL</td></tr><tr><td>34403</td><td>15</td><td>Female</td><td>Medicaid</td><td>NULL</td><td>0</td><td>Unemployed</td><td>High School</td><td>1</td><td>34.033755495646595</td><td>Suburban</td><td>2023-08-13</td><td>2024-07-23</td><td>Show</td></tr><tr><td>80253</td><td>68</td><td>NULL</td><td>Uninsured</td><td>0</td><td>1</td><td>Employed</td><td>None</td><td>0</td><td>46.61934145581211</td><td>Rural</td><td>2024-08-01</td><td>2024-10-22</td><td>No-Show</td></tr><tr><td>65628</td><td>43</td><td>Female</td><td>Private</td><td>1</td><td>1</td><td>Student</td><td>None</td><td>1</td><td>NULL</td><td>NULL</td><td>2022-11-24</td><td>2024-09-22</td><td>Show</td></tr><tr><td>99220</td><td>7</td><td>Male</td><td>Uninsured</td><td>NULL</td><td>0</td><td>Student</td><td>High School</td><td>1</td><td>46.55755754570776</td><td>Suburban</td><td>2023-03-15</td><td>2024-09-30</td><td>Show</td></tr></table>"
                    },
                    "metadata": {}
                }
            ],
            "execution_count": 19
        },
        {
            "cell_type": "markdown",
            "source": [
                "### Basic Descriptive Analysis"
            ],
            "metadata": {
                "azdata_cell_guid": "961af93e-7f62-47ee-b94e-84125117ba90"
            },
            "attachments": {}
        },
        {
            "cell_type": "markdown",
            "source": [
                "**1\\. What is the overall no-show rate?**"
            ],
            "metadata": {
                "azdata_cell_guid": "735661f9-01ba-4ab2-bb71-871c26a40634"
            },
            "attachments": {}
        },
        {
            "cell_type": "code",
            "source": [
                " WITH No_Show_Table AS(\r\n",
                "    SELECT\r\n",
                "        COUNT(Appointment_Outcome)\r\n",
                "        AS No_Show_Appointments\r\n",
                "    FROM\r\n",
                "        test.dbo.healthcare_dataset\r\n",
                "    WHERE\r\n",
                "        Appointment_Outcome = 'No-Show'\r\n",
                " ),\r\n",
                "Total_Apponitments_Table AS (\r\n",
                "    SELECT\r\n",
                "        COUNT(Appointment_Outcome)\r\n",
                "        AS Total_Appointments\r\n",
                "    FROM\r\n",
                "        test.dbo.healthcare_dataset\r\n",
                "\r\n",
                ")\r\n",
                "SELECT\r\n",
                "    a.No_Show_Appointments,\r\n",
                "    b.Total_Appointments,\r\n",
                "    CAST(a.No_Show_Appointments AS decimal(10,2)) / CAST(b.Total_Appointments AS decimal(10,2)) * 100\r\n",
                "AS 'No-show rate'\r\n",
                "FROM\r\n",
                "    No_Show_Table a, Total_Apponitments_Table b"
            ],
            "metadata": {
                "azdata_cell_guid": "8e84730c-d773-42ad-8d2f-c8c4afc8cf1e",
                "language": "sql",
                "tags": []
            },
            "outputs": [
                {
                    "output_type": "display_data",
                    "data": {
                        "text/html": "Warning: Null value is eliminated by an aggregate or other SET operation."
                    },
                    "metadata": {}
                },
                {
                    "output_type": "display_data",
                    "data": {
                        "text/html": "(1 row affected)"
                    },
                    "metadata": {}
                },
                {
                    "output_type": "display_data",
                    "data": {
                        "text/html": "Total execution time: 00:00:00.020"
                    },
                    "metadata": {}
                },
                {
                    "output_type": "execute_result",
                    "execution_count": 20,
                    "data": {
                        "application/vnd.dataresource+json": {
                            "schema": {
                                "fields": [
                                    {
                                        "name": "No_Show_Appointments"
                                    },
                                    {
                                        "name": "Total_Appointments"
                                    },
                                    {
                                        "name": "No-show rate"
                                    }
                                ]
                            },
                            "data": [
                                {
                                    "No_Show_Appointments": "22467",
                                    "Total_Appointments": "45042",
                                    "No-show rate": "49.8801118955600"
                                }
                            ]
                        },
                        "text/html": "<table><tr><th>No_Show_Appointments</th><th>Total_Appointments</th><th>No-show rate</th></tr><tr><td>22467</td><td>45042</td><td>49.8801118955600</td></tr></table>"
                    },
                    "metadata": {}
                }
            ],
            "execution_count": 20
        },
        {
            "cell_type": "markdown",
            "source": [
                "2. **How does no-show rate vary by day of the week?**"
            ],
            "metadata": {
                "language": "sql",
                "azdata_cell_guid": "9d8fee18-8962-4739-b4a1-c92dfb0e074b"
            },
            "attachments": {}
        },
        {
            "cell_type": "code",
            "source": [
                "WITH No_Show_ByDay AS( SELECT\r\n",
                "    CASE\r\n",
                "        WHEN DATEPART(weekday, Appointment_Date) = 1 THEN 'Sunday'\r\n",
                "        WHEN DATEPART(weekday, Appointment_Date) = 2 THEN 'Monday'\r\n",
                "        WHEN DATEPART(weekday, Appointment_Date) = 3 THEN 'Tuesday'\r\n",
                "        WHEN DATEPART(weekday, Appointment_Date) = 4 THEN 'Wednesday'\r\n",
                "        WHEN DATEPART(weekday, Appointment_Date) = 5 THEN 'Thursday'\r\n",
                "        WHEN DATEPART(weekday, Appointment_Date) = 6 THEN 'Friday'\r\n",
                "        WHEN DATEPART(weekday, Appointment_Date) = 7 THEN 'Saturday'\r\n",
                "    END AS DayOfWeekName,\r\n",
                "    COUNT(*) AS NoShowCount\r\n",
                "\r\n",
                "FROM\r\n",
                "    test.dbo.healthcare_dataset\r\n",
                "WHERE\r\n",
                "    Appointment_Outcome = 'No-Show'\r\n",
                "GROUP BY\r\n",
                "    DATEPART(weekday, Appointment_Date)\r\n",
                "),\r\n",
                "No_Shows AS(\r\n",
                "\r\n",
                "    SELECT\r\n",
                "        COUNT(Appointment_Outcome) AS Total_Noshows\r\n",
                "    FROM\r\n",
                "        test.dbo.healthcare_dataset\r\n",
                "    WHERE\r\n",
                "        Appointment_Outcome = 'No-Show'\r\n",
                "\r\n",
                ")\r\n",
                "SELECT\r\n",
                "    a.DayOfWeekName, CAST(CAST(a.NoShowCount AS decimal(10,2)) / b.Total_Noshows AS decimal(4,3)) * 100 AS 'No-Show rate by Date in %'\r\n",
                "FROM\r\n",
                "    No_Show_ByDay a, No_Shows b\r\n",
                "ORDER BY \r\n",
                "    [No-Show rate by Date in %]\r\n",
                "    DESC"
            ],
            "metadata": {
                "language": "sql",
                "azdata_cell_guid": "f65960c3-4315-4ef5-8198-420fe53753f5"
            },
            "outputs": [
                {
                    "output_type": "display_data",
                    "data": {
                        "text/html": "(7 rows affected)"
                    },
                    "metadata": {}
                },
                {
                    "output_type": "display_data",
                    "data": {
                        "text/html": "Total execution time: 00:00:00.050"
                    },
                    "metadata": {}
                },
                {
                    "output_type": "execute_result",
                    "execution_count": 21,
                    "data": {
                        "application/vnd.dataresource+json": {
                            "schema": {
                                "fields": [
                                    {
                                        "name": "DayOfWeekName"
                                    },
                                    {
                                        "name": "No-Show rate by Date in %"
                                    }
                                ]
                            },
                            "data": [
                                {
                                    "DayOfWeekName": "Wednesday",
                                    "No-Show rate by Date in %": "14.500"
                                },
                                {
                                    "DayOfWeekName": "Thursday",
                                    "No-Show rate by Date in %": "14.400"
                                },
                                {
                                    "DayOfWeekName": "Sunday",
                                    "No-Show rate by Date in %": "14.400"
                                },
                                {
                                    "DayOfWeekName": "Friday",
                                    "No-Show rate by Date in %": "14.300"
                                },
                                {
                                    "DayOfWeekName": "Saturday",
                                    "No-Show rate by Date in %": "14.200"
                                },
                                {
                                    "DayOfWeekName": "Tuesday",
                                    "No-Show rate by Date in %": "14.200"
                                },
                                {
                                    "DayOfWeekName": "Monday",
                                    "No-Show rate by Date in %": "13.900"
                                }
                            ]
                        },
                        "text/html": "<table><tr><th>DayOfWeekName</th><th>No-Show rate by Date in %</th></tr><tr><td>Wednesday</td><td>14.500</td></tr><tr><td>Thursday</td><td>14.400</td></tr><tr><td>Sunday</td><td>14.400</td></tr><tr><td>Friday</td><td>14.300</td></tr><tr><td>Saturday</td><td>14.200</td></tr><tr><td>Tuesday</td><td>14.200</td></tr><tr><td>Monday</td><td>13.900</td></tr></table>"
                    },
                    "metadata": {}
                }
            ],
            "execution_count": 21
        },
        {
            "cell_type": "markdown",
            "source": [
                "### Demographic Analysis"
            ],
            "metadata": {
                "language": "sql",
                "azdata_cell_guid": "70819e47-e721-4fbb-b915-e3402a74814f"
            },
            "attachments": {}
        },
        {
            "cell_type": "markdown",
            "source": [
                "**How do no-show rates differ across various age groups (****<span style=\"color: var(--vscode-foreground);\">0-18, 19-35, 36-55, 56+)</span><span style=\"color: var(--vscode-foreground);\">?</span>**"
            ],
            "metadata": {
                "language": "sql",
                "azdata_cell_guid": "8c58a352-90ce-4bd5-af28-135d2aa3da75"
            },
            "attachments": {}
        },
        {
            "cell_type": "code",
            "source": [
                "WITH AgeGroupTable AS (\r\n",
                "    SELECT\r\n",
                "        CASE\r\n",
                "            WHEN Age <= 18 THEN '0-18'\r\n",
                "            WHEN Age >= 19 AND Age < 35 THEN '19-35'\r\n",
                "            WHEN Age >= 36 AND Age < 55 THEN '36-55'\r\n",
                "            WHEN Age >= 56 THEN '56+'\r\n",
                "        END AS AgeGroup,\r\n",
                "        COUNT(*) AS NoShowCount\r\n",
                "    FROM\r\n",
                "        test.dbo.healthcare_dataset\r\n",
                "    WHERE\r\n",
                "        Appointment_Outcome = 'No-Show'\r\n",
                "    GROUP BY\r\n",
                "        CASE\r\n",
                "            WHEN Age <= 18 THEN '0-18'\r\n",
                "            WHEN Age >= 19 AND Age < 35 THEN '19-35'\r\n",
                "            WHEN Age >= 36 AND Age < 55 THEN '36-55'\r\n",
                "            WHEN Age >= 56 THEN '56+'\r\n",
                "        END\r\n",
                "),\r\n",
                "No_Shows AS (\r\n",
                "    SELECT\r\n",
                "        COUNT(Appointment_Outcome) AS Total_Noshows\r\n",
                "    FROM\r\n",
                "        test.dbo.healthcare_dataset\r\n",
                "    WHERE\r\n",
                "        Appointment_Outcome = 'No-Show'\r\n",
                ")\r\n",
                "SELECT\r\n",
                "    a.AgeGroup,\r\n",
                "    CAST(a.NoShowCount AS decimal(10,2)) / b.Total_Noshows * 100 AS '% of No-Shows'\r\n",
                "FROM\r\n",
                "    AgeGroupTable a, No_Shows b\r\n",
                "ORDER BY\r\n",
                "    '% of No-Shows'\r\n",
                "    DESC"
            ],
            "metadata": {
                "language": "sql",
                "azdata_cell_guid": "bd146840-5f96-44b7-9df5-39c5a6789a68"
            },
            "outputs": [
                {
                    "output_type": "display_data",
                    "data": {
                        "text/html": "(5 rows affected)"
                    },
                    "metadata": {}
                },
                {
                    "output_type": "display_data",
                    "data": {
                        "text/html": "Total execution time: 00:00:00.060"
                    },
                    "metadata": {}
                },
                {
                    "output_type": "execute_result",
                    "execution_count": 22,
                    "data": {
                        "application/vnd.dataresource+json": {
                            "schema": {
                                "fields": [
                                    {
                                        "name": "AgeGroup"
                                    },
                                    {
                                        "name": "% of No-Shows"
                                    }
                                ]
                            },
                            "data": [
                                {
                                    "AgeGroup": "56+",
                                    "% of No-Shows": "39.5557929407500"
                                },
                                {
                                    "AgeGroup": "0-18",
                                    "% of No-Shows": "17.0205189833900"
                                },
                                {
                                    "AgeGroup": "36-55",
                                    "% of No-Shows": "16.7445586860700"
                                },
                                {
                                    "AgeGroup": "19-35",
                                    "% of No-Shows": "14.7149152089700"
                                },
                                {
                                    "AgeGroup": "NULL",
                                    "% of No-Shows": "11.9642141807900"
                                }
                            ]
                        },
                        "text/html": "<table><tr><th>AgeGroup</th><th>% of No-Shows</th></tr><tr><td>56+</td><td>39.5557929407500</td></tr><tr><td>0-18</td><td>17.0205189833900</td></tr><tr><td>36-55</td><td>16.7445586860700</td></tr><tr><td>19-35</td><td>14.7149152089700</td></tr><tr><td>NULL</td><td>11.9642141807900</td></tr></table>"
                    },
                    "metadata": {}
                }
            ],
            "execution_count": 22
        },
        {
            "cell_type": "markdown",
            "source": [
                "**Is there a difference in no-show rates between genders?**"
            ],
            "metadata": {
                "azdata_cell_guid": "a4dfde0b-07d2-47a0-8235-728299818276"
            },
            "attachments": {}
        },
        {
            "cell_type": "code",
            "source": [
                "WITH GenderGroup AS (SELECT\r\n",
                "    Gender,\r\n",
                "    COUNT (*) AS 'No_Show'\r\n",
                "FROM\r\n",
                "    test.dbo.healthcare_dataset\r\n",
                "WHERE\r\n",
                "    Appointment_Outcome = 'No-Show'\r\n",
                "GROUP by\r\n",
                "    Gender),\r\n",
                "GenderTotal AS(SELECT\r\n",
                "    COUNT(*) AS No_ShowTotal\r\n",
                "    FROM\r\n",
                "        test.dbo.healthcare_dataset\r\n",
                "    WHERE\r\n",
                "        Appointment_Outcome = 'No-Show'\r\n",
                ")\r\n",
                "SELECT\r\n",
                "    a.Gender,\r\n",
                "    CAST(a.No_Show AS decimal(10,2)) / b.No_ShowTotal * 100 AS 'No-Show rate in %'\r\n",
                "FROM\r\n",
                "    GenderGroup a, GenderTotal b"
            ],
            "metadata": {
                "azdata_cell_guid": "0541cad7-50ef-4b39-ae48-dab21d211218",
                "language": "sql"
            },
            "outputs": [
                {
                    "output_type": "display_data",
                    "data": {
                        "text/html": "(4 rows affected)"
                    },
                    "metadata": {}
                },
                {
                    "output_type": "display_data",
                    "data": {
                        "text/html": "Total execution time: 00:00:00.042"
                    },
                    "metadata": {}
                },
                {
                    "output_type": "execute_result",
                    "execution_count": 23,
                    "data": {
                        "application/vnd.dataresource+json": {
                            "schema": {
                                "fields": [
                                    {
                                        "name": "Gender"
                                    },
                                    {
                                        "name": "No-Show rate in %"
                                    }
                                ]
                            },
                            "data": [
                                {
                                    "Gender": "NULL",
                                    "No-Show rate in %": "9.8767080607100"
                                },
                                {
                                    "Gender": "Female",
                                    "No-Show rate in %": "30.3778875684300"
                                },
                                {
                                    "Gender": "Male",
                                    "No-Show rate in %": "29.9105354519900"
                                },
                                {
                                    "Gender": "Other",
                                    "No-Show rate in %": "29.8348689188500"
                                }
                            ]
                        },
                        "text/html": "<table><tr><th>Gender</th><th>No-Show rate in %</th></tr><tr><td>NULL</td><td>9.8767080607100</td></tr><tr><td>Female</td><td>30.3778875684300</td></tr><tr><td>Male</td><td>29.9105354519900</td></tr><tr><td>Other</td><td>29.8348689188500</td></tr></table>"
                    },
                    "metadata": {}
                }
            ],
            "execution_count": 23
        },
        {
            "cell_type": "markdown",
            "source": [
                "### Time-based Patterns"
            ],
            "metadata": {
                "language": "sql",
                "azdata_cell_guid": "020ae7dc-96f1-4d01-a586-388cfdf2e00b"
            },
            "attachments": {}
        },
        {
            "cell_type": "markdown",
            "source": [
                "**How do no-show rates vary between appointments made on the same day vs. days in advance?**"
            ],
            "metadata": {
                "language": "sql",
                "azdata_cell_guid": "da55e529-ccdd-4512-8d41-a12cbcfd987c"
            },
            "attachments": {}
        },
        {
            "cell_type": "code",
            "source": [
                "SELECT\r\n",
                "    Booking_date,\r\n",
                "    Appointment_date\r\n",
                "FROM\r\n",
                "    test.dbo.healthcare_dataset\r\n",
                "WHERE\r\n",
                "    Appointment_Date = Booking_Date\r\n",
                "-- Result is blank, there are no same date appointments "
            ],
            "metadata": {
                "language": "sql",
                "azdata_cell_guid": "f905770c-66b7-4bdd-b478-d93b74564e10",
                "tags": []
            },
            "outputs": [
                {
                    "output_type": "display_data",
                    "data": {
                        "text/html": "(0 rows affected)"
                    },
                    "metadata": {}
                },
                {
                    "output_type": "display_data",
                    "data": {
                        "text/html": "Total execution time: 00:00:00.007"
                    },
                    "metadata": {}
                },
                {
                    "output_type": "execute_result",
                    "execution_count": 24,
                    "data": {
                        "application/vnd.dataresource+json": {
                            "schema": {
                                "fields": [
                                    {
                                        "name": "Booking_date"
                                    },
                                    {
                                        "name": "Appointment_date"
                                    }
                                ]
                            },
                            "data": []
                        },
                        "text/html": "<table><tr><th>Booking_date</th><th>Appointment_date</th></tr></table>"
                    },
                    "metadata": {}
                }
            ],
            "execution_count": 24
        },
        {
            "cell_type": "markdown",
            "source": [
                "### Correlation and Causal Analysis"
            ],
            "metadata": {
                "language": "sql",
                "azdata_cell_guid": "22fa51b7-7d06-4953-b68d-6f4e4bd4b53a"
            },
            "attachments": {}
        },
        {
            "cell_type": "markdown",
            "source": [
                "**Are longer wait times between scheduling and appointment associated with higher no-show rates?**"
            ],
            "metadata": {
                "language": "sql",
                "azdata_cell_guid": "bd1e6572-6777-4370-a598-82ccdfb6d7d6"
            },
            "attachments": {}
        },
        {
            "cell_type": "code",
            "source": [
                "SELECT\r\n",
                "    DATEDIFF(day,Booking_Date,Appointment_Date) AS 'Waiting time in days',\r\n",
                "    COUNT(DATEDIFF(day,Booking_Date,Appointment_Date)) AS 'Count',\r\n",
                "    Appointment_Outcome\r\n",
                "FROM\r\n",
                "    test.dbo.healthcare_dataset\r\n",
                "WHERE\r\n",
                "    Appointment_Outcome = 'No-Show'\r\n",
                "GROUP BY\r\n",
                "    DATEDIFF(day,Booking_Date,Appointment_Date),\r\n",
                "    Appointment_Outcome\r\n",
                "ORDER BY\r\n",
                "    COUNT(DATEDIFF(day,Booking_Date,Appointment_Date))\r\n",
                "    DESC\r\n",
                "\r\n",
                "    "
            ],
            "metadata": {
                "language": "sql",
                "azdata_cell_guid": "357a87b2-b194-4b3c-9a6b-ccbd0be1be2c",
                "tags": []
            },
            "outputs": [
                {
                    "output_type": "display_data",
                    "data": {
                        "text/html": "(718 rows affected)"
                    },
                    "metadata": {}
                },
                {
                    "output_type": "display_data",
                    "data": {
                        "text/html": "Total execution time: 00:00:00.048"
                    },
                    "metadata": {}
                },
                {
                    "output_type": "execute_result",
                    "metadata": {},
                    "execution_count": 15,
                    "data": {
                        "application/vnd.dataresource+json": {
                            "schema": {
                                "fields": [
                                    {
                                        "name": "Waiting time in days"
                                    },
                                    {
                                        "name": "Count"
                                    },
                                    {
                                        "name": "Appointment_Outcome"
                                    }
                                ]
                            },
                            "data": [
                                {
                                    "Waiting time in days": "20",
                                    "Count": "61",
                                    "Appointment_Outcome": "No-Show"
                                },
                                {
                                    "Waiting time in days": "106",
                                    "Count": "60",
                                    "Appointment_Outcome": "No-Show"
                                },
                                {
                                    "Waiting time in days": "272",
                                    "Count": "60",
                                    "Appointment_Outcome": "No-Show"
                                },
                                {
                                    "Waiting time in days": "273",
                                    "Count": "59",
                                    "Appointment_Outcome": "No-Show"
                                },
                                {
                                    "Waiting time in days": "79",
                                    "Count": "58",
                                    "Appointment_Outcome": "No-Show"
                                },
                                {
                                    "Waiting time in days": "123",
                                    "Count": "58",
                                    "Appointment_Outcome": "No-Show"
                                },
                                {
                                    "Waiting time in days": "304",
                                    "Count": "57",
                                    "Appointment_Outcome": "No-Show"
                                },
                                {
                                    "Waiting time in days": "29",
                                    "Count": "56",
                                    "Appointment_Outcome": "No-Show"
                                },
                                {
                                    "Waiting time in days": "31",
                                    "Count": "56",
                                    "Appointment_Outcome": "No-Show"
                                },
                                {
                                    "Waiting time in days": "230",
                                    "Count": "56",
                                    "Appointment_Outcome": "No-Show"
                                },
                                {
                                    "Waiting time in days": "217",
                                    "Count": "56",
                                    "Appointment_Outcome": "No-Show"
                                },
                                {
                                    "Waiting time in days": "3",
                                    "Count": "55",
                                    "Appointment_Outcome": "No-Show"
                                },
                                {
                                    "Waiting time in days": "336",
                                    "Count": "55",
                                    "Appointment_Outcome": "No-Show"
                                },
                                {
                                    "Waiting time in days": "367",
                                    "Count": "55",
                                    "Appointment_Outcome": "No-Show"
                                },
                                {
                                    "Waiting time in days": "360",
                                    "Count": "54",
                                    "Appointment_Outcome": "No-Show"
                                },
                                {
                                    "Waiting time in days": "332",
                                    "Count": "54",
                                    "Appointment_Outcome": "No-Show"
                                },
                                {
                                    "Waiting time in days": "307",
                                    "Count": "54",
                                    "Appointment_Outcome": "No-Show"
                                },
                                {
                                    "Waiting time in days": "310",
                                    "Count": "54",
                                    "Appointment_Outcome": "No-Show"
                                },
                                {
                                    "Waiting time in days": "53",
                                    "Count": "54",
                                    "Appointment_Outcome": "No-Show"
                                },
                                {
                                    "Waiting time in days": "58",
                                    "Count": "54",
                                    "Appointment_Outcome": "No-Show"
                                },
                                {
                                    "Waiting time in days": "59",
                                    "Count": "54",
                                    "Appointment_Outcome": "No-Show"
                                },
                                {
                                    "Waiting time in days": "202",
                                    "Count": "54",
                                    "Appointment_Outcome": "No-Show"
                                },
                                {
                                    "Waiting time in days": "187",
                                    "Count": "54",
                                    "Appointment_Outcome": "No-Show"
                                },
                                {
                                    "Waiting time in days": "189",
                                    "Count": "53",
                                    "Appointment_Outcome": "No-Show"
                                },
                                {
                                    "Waiting time in days": "208",
                                    "Count": "53",
                                    "Appointment_Outcome": "No-Show"
                                },
                                {
                                    "Waiting time in days": "211",
                                    "Count": "53",
                                    "Appointment_Outcome": "No-Show"
                                },
                                {
                                    "Waiting time in days": "234",
                                    "Count": "53",
                                    "Appointment_Outcome": "No-Show"
                                },
                                {
                                    "Waiting time in days": "224",
                                    "Count": "53",
                                    "Appointment_Outcome": "No-Show"
                                },
                                {
                                    "Waiting time in days": "297",
                                    "Count": "53",
                                    "Appointment_Outcome": "No-Show"
                                },
                                {
                                    "Waiting time in days": "298",
                                    "Count": "52",
                                    "Appointment_Outcome": "No-Show"
                                },
                                {
                                    "Waiting time in days": "358",
                                    "Count": "52",
                                    "Appointment_Outcome": "No-Show"
                                },
                                {
                                    "Waiting time in days": "220",
                                    "Count": "52",
                                    "Appointment_Outcome": "No-Show"
                                },
                                {
                                    "Waiting time in days": "228",
                                    "Count": "52",
                                    "Appointment_Outcome": "No-Show"
                                },
                                {
                                    "Waiting time in days": "281",
                                    "Count": "52",
                                    "Appointment_Outcome": "No-Show"
                                },
                                {
                                    "Waiting time in days": "195",
                                    "Count": "52",
                                    "Appointment_Outcome": "No-Show"
                                },
                                {
                                    "Waiting time in days": "82",
                                    "Count": "52",
                                    "Appointment_Outcome": "No-Show"
                                },
                                {
                                    "Waiting time in days": "85",
                                    "Count": "51",
                                    "Appointment_Outcome": "No-Show"
                                },
                                {
                                    "Waiting time in days": "99",
                                    "Count": "51",
                                    "Appointment_Outcome": "No-Show"
                                },
                                {
                                    "Waiting time in days": "111",
                                    "Count": "51",
                                    "Appointment_Outcome": "No-Show"
                                },
                                {
                                    "Waiting time in days": "130",
                                    "Count": "51",
                                    "Appointment_Outcome": "No-Show"
                                },
                                {
                                    "Waiting time in days": "142",
                                    "Count": "51",
                                    "Appointment_Outcome": "No-Show"
                                },
                                {
                                    "Waiting time in days": "32",
                                    "Count": "51",
                                    "Appointment_Outcome": "No-Show"
                                },
                                {
                                    "Waiting time in days": "215",
                                    "Count": "51",
                                    "Appointment_Outcome": "No-Show"
                                },
                                {
                                    "Waiting time in days": "216",
                                    "Count": "51",
                                    "Appointment_Outcome": "No-Show"
                                },
                                {
                                    "Waiting time in days": "159",
                                    "Count": "51",
                                    "Appointment_Outcome": "No-Show"
                                },
                                {
                                    "Waiting time in days": "283",
                                    "Count": "51",
                                    "Appointment_Outcome": "No-Show"
                                },
                                {
                                    "Waiting time in days": "266",
                                    "Count": "51",
                                    "Appointment_Outcome": "No-Show"
                                },
                                {
                                    "Waiting time in days": "221",
                                    "Count": "51",
                                    "Appointment_Outcome": "No-Show"
                                },
                                {
                                    "Waiting time in days": "337",
                                    "Count": "51",
                                    "Appointment_Outcome": "No-Show"
                                },
                                {
                                    "Waiting time in days": "293",
                                    "Count": "50",
                                    "Appointment_Outcome": "No-Show"
                                },
                                {
                                    "Waiting time in days": "176",
                                    "Count": "50",
                                    "Appointment_Outcome": "No-Show"
                                },
                                {
                                    "Waiting time in days": "212",
                                    "Count": "50",
                                    "Appointment_Outcome": "No-Show"
                                },
                                {
                                    "Waiting time in days": "205",
                                    "Count": "50",
                                    "Appointment_Outcome": "No-Show"
                                },
                                {
                                    "Waiting time in days": "192",
                                    "Count": "50",
                                    "Appointment_Outcome": "No-Show"
                                },
                                {
                                    "Waiting time in days": "4",
                                    "Count": "50",
                                    "Appointment_Outcome": "No-Show"
                                },
                                {
                                    "Waiting time in days": "55",
                                    "Count": "50",
                                    "Appointment_Outcome": "No-Show"
                                },
                                {
                                    "Waiting time in days": "101",
                                    "Count": "50",
                                    "Appointment_Outcome": "No-Show"
                                },
                                {
                                    "Waiting time in days": "97",
                                    "Count": "50",
                                    "Appointment_Outcome": "No-Show"
                                },
                                {
                                    "Waiting time in days": "74",
                                    "Count": "50",
                                    "Appointment_Outcome": "No-Show"
                                },
                                {
                                    "Waiting time in days": "91",
                                    "Count": "49",
                                    "Appointment_Outcome": "No-Show"
                                },
                                {
                                    "Waiting time in days": "112",
                                    "Count": "49",
                                    "Appointment_Outcome": "No-Show"
                                },
                                {
                                    "Waiting time in days": "108",
                                    "Count": "49",
                                    "Appointment_Outcome": "No-Show"
                                },
                                {
                                    "Waiting time in days": "121",
                                    "Count": "49",
                                    "Appointment_Outcome": "No-Show"
                                },
                                {
                                    "Waiting time in days": "47",
                                    "Count": "49",
                                    "Appointment_Outcome": "No-Show"
                                },
                                {
                                    "Waiting time in days": "151",
                                    "Count": "49",
                                    "Appointment_Outcome": "No-Show"
                                },
                                {
                                    "Waiting time in days": "238",
                                    "Count": "49",
                                    "Appointment_Outcome": "No-Show"
                                },
                                {
                                    "Waiting time in days": "257",
                                    "Count": "49",
                                    "Appointment_Outcome": "No-Show"
                                },
                                {
                                    "Waiting time in days": "296",
                                    "Count": "49",
                                    "Appointment_Outcome": "No-Show"
                                },
                                {
                                    "Waiting time in days": "318",
                                    "Count": "49",
                                    "Appointment_Outcome": "No-Show"
                                },
                                {
                                    "Waiting time in days": "325",
                                    "Count": "49",
                                    "Appointment_Outcome": "No-Show"
                                },
                                {
                                    "Waiting time in days": "338",
                                    "Count": "49",
                                    "Appointment_Outcome": "No-Show"
                                },
                                {
                                    "Waiting time in days": "363",
                                    "Count": "49",
                                    "Appointment_Outcome": "No-Show"
                                },
                                {
                                    "Waiting time in days": "402",
                                    "Count": "49",
                                    "Appointment_Outcome": "No-Show"
                                },
                                {
                                    "Waiting time in days": "344",
                                    "Count": "48",
                                    "Appointment_Outcome": "No-Show"
                                },
                                {
                                    "Waiting time in days": "292",
                                    "Count": "48",
                                    "Appointment_Outcome": "No-Show"
                                },
                                {
                                    "Waiting time in days": "290",
                                    "Count": "48",
                                    "Appointment_Outcome": "No-Show"
                                },
                                {
                                    "Waiting time in days": "256",
                                    "Count": "48",
                                    "Appointment_Outcome": "No-Show"
                                },
                                {
                                    "Waiting time in days": "267",
                                    "Count": "48",
                                    "Appointment_Outcome": "No-Show"
                                },
                                {
                                    "Waiting time in days": "279",
                                    "Count": "48",
                                    "Appointment_Outcome": "No-Show"
                                },
                                {
                                    "Waiting time in days": "236",
                                    "Count": "48",
                                    "Appointment_Outcome": "No-Show"
                                },
                                {
                                    "Waiting time in days": "227",
                                    "Count": "48",
                                    "Appointment_Outcome": "No-Show"
                                },
                                {
                                    "Waiting time in days": "231",
                                    "Count": "48",
                                    "Appointment_Outcome": "No-Show"
                                },
                                {
                                    "Waiting time in days": "178",
                                    "Count": "48",
                                    "Appointment_Outcome": "No-Show"
                                },
                                {
                                    "Waiting time in days": "180",
                                    "Count": "48",
                                    "Appointment_Outcome": "No-Show"
                                },
                                {
                                    "Waiting time in days": "40",
                                    "Count": "48",
                                    "Appointment_Outcome": "No-Show"
                                },
                                {
                                    "Waiting time in days": "126",
                                    "Count": "48",
                                    "Appointment_Outcome": "No-Show"
                                },
                                {
                                    "Waiting time in days": "84",
                                    "Count": "48",
                                    "Appointment_Outcome": "No-Show"
                                },
                                {
                                    "Waiting time in days": "120",
                                    "Count": "48",
                                    "Appointment_Outcome": "No-Show"
                                },
                                {
                                    "Waiting time in days": "93",
                                    "Count": "48",
                                    "Appointment_Outcome": "No-Show"
                                },
                                {
                                    "Waiting time in days": "92",
                                    "Count": "47",
                                    "Appointment_Outcome": "No-Show"
                                },
                                {
                                    "Waiting time in days": "87",
                                    "Count": "47",
                                    "Appointment_Outcome": "No-Show"
                                },
                                {
                                    "Waiting time in days": "110",
                                    "Count": "47",
                                    "Appointment_Outcome": "No-Show"
                                },
                                {
                                    "Waiting time in days": "44",
                                    "Count": "47",
                                    "Appointment_Outcome": "No-Show"
                                },
                                {
                                    "Waiting time in days": "18",
                                    "Count": "47",
                                    "Appointment_Outcome": "No-Show"
                                },
                                {
                                    "Waiting time in days": "34",
                                    "Count": "47",
                                    "Appointment_Outcome": "No-Show"
                                },
                                {
                                    "Waiting time in days": "36",
                                    "Count": "47",
                                    "Appointment_Outcome": "No-Show"
                                },
                                {
                                    "Waiting time in days": "147",
                                    "Count": "47",
                                    "Appointment_Outcome": "No-Show"
                                },
                                {
                                    "Waiting time in days": "191",
                                    "Count": "47",
                                    "Appointment_Outcome": "No-Show"
                                },
                                {
                                    "Waiting time in days": "207",
                                    "Count": "47",
                                    "Appointment_Outcome": "No-Show"
                                },
                                {
                                    "Waiting time in days": "299",
                                    "Count": "47",
                                    "Appointment_Outcome": "No-Show"
                                },
                                {
                                    "Waiting time in days": "300",
                                    "Count": "47",
                                    "Appointment_Outcome": "No-Show"
                                },
                                {
                                    "Waiting time in days": "335",
                                    "Count": "47",
                                    "Appointment_Outcome": "No-Show"
                                },
                                {
                                    "Waiting time in days": "317",
                                    "Count": "47",
                                    "Appointment_Outcome": "No-Show"
                                },
                                {
                                    "Waiting time in days": "366",
                                    "Count": "47",
                                    "Appointment_Outcome": "No-Show"
                                },
                                {
                                    "Waiting time in days": "371",
                                    "Count": "47",
                                    "Appointment_Outcome": "No-Show"
                                },
                                {
                                    "Waiting time in days": "405",
                                    "Count": "46",
                                    "Appointment_Outcome": "No-Show"
                                },
                                {
                                    "Waiting time in days": "329",
                                    "Count": "46",
                                    "Appointment_Outcome": "No-Show"
                                },
                                {
                                    "Waiting time in days": "334",
                                    "Count": "46",
                                    "Appointment_Outcome": "No-Show"
                                },
                                {
                                    "Waiting time in days": "294",
                                    "Count": "46",
                                    "Appointment_Outcome": "No-Show"
                                },
                                {
                                    "Waiting time in days": "199",
                                    "Count": "46",
                                    "Appointment_Outcome": "No-Show"
                                },
                                {
                                    "Waiting time in days": "209",
                                    "Count": "46",
                                    "Appointment_Outcome": "No-Show"
                                },
                                {
                                    "Waiting time in days": "185",
                                    "Count": "46",
                                    "Appointment_Outcome": "No-Show"
                                },
                                {
                                    "Waiting time in days": "222",
                                    "Count": "46",
                                    "Appointment_Outcome": "No-Show"
                                },
                                {
                                    "Waiting time in days": "246",
                                    "Count": "46",
                                    "Appointment_Outcome": "No-Show"
                                },
                                {
                                    "Waiting time in days": "237",
                                    "Count": "46",
                                    "Appointment_Outcome": "No-Show"
                                },
                                {
                                    "Waiting time in days": "10",
                                    "Count": "46",
                                    "Appointment_Outcome": "No-Show"
                                },
                                {
                                    "Waiting time in days": "12",
                                    "Count": "46",
                                    "Appointment_Outcome": "No-Show"
                                },
                                {
                                    "Waiting time in days": "38",
                                    "Count": "46",
                                    "Appointment_Outcome": "No-Show"
                                },
                                {
                                    "Waiting time in days": "39",
                                    "Count": "46",
                                    "Appointment_Outcome": "No-Show"
                                },
                                {
                                    "Waiting time in days": "134",
                                    "Count": "46",
                                    "Appointment_Outcome": "No-Show"
                                },
                                {
                                    "Waiting time in days": "139",
                                    "Count": "46",
                                    "Appointment_Outcome": "No-Show"
                                },
                                {
                                    "Waiting time in days": "137",
                                    "Count": "45",
                                    "Appointment_Outcome": "No-Show"
                                },
                                {
                                    "Waiting time in days": "78",
                                    "Count": "45",
                                    "Appointment_Outcome": "No-Show"
                                },
                                {
                                    "Waiting time in days": "107",
                                    "Count": "45",
                                    "Appointment_Outcome": "No-Show"
                                },
                                {
                                    "Waiting time in days": "68",
                                    "Count": "45",
                                    "Appointment_Outcome": "No-Show"
                                },
                                {
                                    "Waiting time in days": "30",
                                    "Count": "45",
                                    "Appointment_Outcome": "No-Show"
                                },
                                {
                                    "Waiting time in days": "24",
                                    "Count": "45",
                                    "Appointment_Outcome": "No-Show"
                                },
                                {
                                    "Waiting time in days": "251",
                                    "Count": "45",
                                    "Appointment_Outcome": "No-Show"
                                },
                                {
                                    "Waiting time in days": "287",
                                    "Count": "45",
                                    "Appointment_Outcome": "No-Show"
                                },
                                {
                                    "Waiting time in days": "258",
                                    "Count": "45",
                                    "Appointment_Outcome": "No-Show"
                                },
                                {
                                    "Waiting time in days": "200",
                                    "Count": "45",
                                    "Appointment_Outcome": "No-Show"
                                },
                                {
                                    "Waiting time in days": "203",
                                    "Count": "45",
                                    "Appointment_Outcome": "No-Show"
                                },
                                {
                                    "Waiting time in days": "323",
                                    "Count": "45",
                                    "Appointment_Outcome": "No-Show"
                                },
                                {
                                    "Waiting time in days": "348",
                                    "Count": "45",
                                    "Appointment_Outcome": "No-Show"
                                },
                                {
                                    "Waiting time in days": "349",
                                    "Count": "45",
                                    "Appointment_Outcome": "No-Show"
                                },
                                {
                                    "Waiting time in days": "393",
                                    "Count": "45",
                                    "Appointment_Outcome": "No-Show"
                                },
                                {
                                    "Waiting time in days": "364",
                                    "Count": "45",
                                    "Appointment_Outcome": "No-Show"
                                },
                                {
                                    "Waiting time in days": "361",
                                    "Count": "44",
                                    "Appointment_Outcome": "No-Show"
                                },
                                {
                                    "Waiting time in days": "379",
                                    "Count": "44",
                                    "Appointment_Outcome": "No-Show"
                                },
                                {
                                    "Waiting time in days": "410",
                                    "Count": "44",
                                    "Appointment_Outcome": "No-Show"
                                },
                                {
                                    "Waiting time in days": "352",
                                    "Count": "44",
                                    "Appointment_Outcome": "No-Show"
                                },
                                {
                                    "Waiting time in days": "302",
                                    "Count": "44",
                                    "Appointment_Outcome": "No-Show"
                                },
                                {
                                    "Waiting time in days": "313",
                                    "Count": "44",
                                    "Appointment_Outcome": "No-Show"
                                },
                                {
                                    "Waiting time in days": "155",
                                    "Count": "44",
                                    "Appointment_Outcome": "No-Show"
                                },
                                {
                                    "Waiting time in days": "288",
                                    "Count": "44",
                                    "Appointment_Outcome": "No-Show"
                                },
                                {
                                    "Waiting time in days": "262",
                                    "Count": "44",
                                    "Appointment_Outcome": "No-Show"
                                },
                                {
                                    "Waiting time in days": "276",
                                    "Count": "44",
                                    "Appointment_Outcome": "No-Show"
                                },
                                {
                                    "Waiting time in days": "226",
                                    "Count": "44",
                                    "Appointment_Outcome": "No-Show"
                                },
                                {
                                    "Waiting time in days": "214",
                                    "Count": "43",
                                    "Appointment_Outcome": "No-Show"
                                },
                                {
                                    "Waiting time in days": "249",
                                    "Count": "43",
                                    "Appointment_Outcome": "No-Show"
                                },
                                {
                                    "Waiting time in days": "250",
                                    "Count": "43",
                                    "Appointment_Outcome": "No-Show"
                                },
                                {
                                    "Waiting time in days": "239",
                                    "Count": "43",
                                    "Appointment_Outcome": "No-Show"
                                },
                                {
                                    "Waiting time in days": "259",
                                    "Count": "43",
                                    "Appointment_Outcome": "No-Show"
                                },
                                {
                                    "Waiting time in days": "253",
                                    "Count": "43",
                                    "Appointment_Outcome": "No-Show"
                                },
                                {
                                    "Waiting time in days": "158",
                                    "Count": "43",
                                    "Appointment_Outcome": "No-Show"
                                },
                                {
                                    "Waiting time in days": "174",
                                    "Count": "43",
                                    "Appointment_Outcome": "No-Show"
                                },
                                {
                                    "Waiting time in days": "201",
                                    "Count": "43",
                                    "Appointment_Outcome": "No-Show"
                                },
                                {
                                    "Waiting time in days": "197",
                                    "Count": "43",
                                    "Appointment_Outcome": "No-Show"
                                },
                                {
                                    "Waiting time in days": "22",
                                    "Count": "43",
                                    "Appointment_Outcome": "No-Show"
                                },
                                {
                                    "Waiting time in days": "23",
                                    "Count": "43",
                                    "Appointment_Outcome": "No-Show"
                                },
                                {
                                    "Waiting time in days": "65",
                                    "Count": "43",
                                    "Appointment_Outcome": "No-Show"
                                },
                                {
                                    "Waiting time in days": "98",
                                    "Count": "43",
                                    "Appointment_Outcome": "No-Show"
                                },
                                {
                                    "Waiting time in days": "138",
                                    "Count": "43",
                                    "Appointment_Outcome": "No-Show"
                                },
                                {
                                    "Waiting time in days": "129",
                                    "Count": "43",
                                    "Appointment_Outcome": "No-Show"
                                },
                                {
                                    "Waiting time in days": "109",
                                    "Count": "43",
                                    "Appointment_Outcome": "No-Show"
                                },
                                {
                                    "Waiting time in days": "122",
                                    "Count": "43",
                                    "Appointment_Outcome": "No-Show"
                                },
                                {
                                    "Waiting time in days": "306",
                                    "Count": "43",
                                    "Appointment_Outcome": "No-Show"
                                },
                                {
                                    "Waiting time in days": "321",
                                    "Count": "43",
                                    "Appointment_Outcome": "No-Show"
                                },
                                {
                                    "Waiting time in days": "291",
                                    "Count": "43",
                                    "Appointment_Outcome": "No-Show"
                                },
                                {
                                    "Waiting time in days": "343",
                                    "Count": "43",
                                    "Appointment_Outcome": "No-Show"
                                },
                                {
                                    "Waiting time in days": "412",
                                    "Count": "43",
                                    "Appointment_Outcome": "No-Show"
                                },
                                {
                                    "Waiting time in days": "380",
                                    "Count": "43",
                                    "Appointment_Outcome": "No-Show"
                                },
                                {
                                    "Waiting time in days": "376",
                                    "Count": "43",
                                    "Appointment_Outcome": "No-Show"
                                },
                                {
                                    "Waiting time in days": "395",
                                    "Count": "43",
                                    "Appointment_Outcome": "No-Show"
                                },
                                {
                                    "Waiting time in days": "389",
                                    "Count": "42",
                                    "Appointment_Outcome": "No-Show"
                                },
                                {
                                    "Waiting time in days": "409",
                                    "Count": "42",
                                    "Appointment_Outcome": "No-Show"
                                },
                                {
                                    "Waiting time in days": "420",
                                    "Count": "42",
                                    "Appointment_Outcome": "No-Show"
                                },
                                {
                                    "Waiting time in days": "342",
                                    "Count": "42",
                                    "Appointment_Outcome": "No-Show"
                                },
                                {
                                    "Waiting time in days": "350",
                                    "Count": "42",
                                    "Appointment_Outcome": "No-Show"
                                },
                                {
                                    "Waiting time in days": "351",
                                    "Count": "42",
                                    "Appointment_Outcome": "No-Show"
                                },
                                {
                                    "Waiting time in days": "355",
                                    "Count": "42",
                                    "Appointment_Outcome": "No-Show"
                                },
                                {
                                    "Waiting time in days": "357",
                                    "Count": "42",
                                    "Appointment_Outcome": "No-Show"
                                },
                                {
                                    "Waiting time in days": "331",
                                    "Count": "42",
                                    "Appointment_Outcome": "No-Show"
                                },
                                {
                                    "Waiting time in days": "340",
                                    "Count": "42",
                                    "Appointment_Outcome": "No-Show"
                                },
                                {
                                    "Waiting time in days": "301",
                                    "Count": "42",
                                    "Appointment_Outcome": "No-Show"
                                },
                                {
                                    "Waiting time in days": "303",
                                    "Count": "42",
                                    "Appointment_Outcome": "No-Show"
                                },
                                {
                                    "Waiting time in days": "311",
                                    "Count": "42",
                                    "Appointment_Outcome": "No-Show"
                                },
                                {
                                    "Waiting time in days": "315",
                                    "Count": "42",
                                    "Appointment_Outcome": "No-Show"
                                },
                                {
                                    "Waiting time in days": "316",
                                    "Count": "42",
                                    "Appointment_Outcome": "No-Show"
                                },
                                {
                                    "Waiting time in days": "141",
                                    "Count": "42",
                                    "Appointment_Outcome": "No-Show"
                                },
                                {
                                    "Waiting time in days": "86",
                                    "Count": "42",
                                    "Appointment_Outcome": "No-Show"
                                },
                                {
                                    "Waiting time in days": "83",
                                    "Count": "42",
                                    "Appointment_Outcome": "No-Show"
                                },
                                {
                                    "Waiting time in days": "60",
                                    "Count": "42",
                                    "Appointment_Outcome": "No-Show"
                                },
                                {
                                    "Waiting time in days": "21",
                                    "Count": "42",
                                    "Appointment_Outcome": "No-Show"
                                },
                                {
                                    "Waiting time in days": "218",
                                    "Count": "42",
                                    "Appointment_Outcome": "No-Show"
                                },
                                {
                                    "Waiting time in days": "177",
                                    "Count": "42",
                                    "Appointment_Outcome": "No-Show"
                                },
                                {
                                    "Waiting time in days": "166",
                                    "Count": "42",
                                    "Appointment_Outcome": "No-Show"
                                },
                                {
                                    "Waiting time in days": "161",
                                    "Count": "42",
                                    "Appointment_Outcome": "No-Show"
                                },
                                {
                                    "Waiting time in days": "144",
                                    "Count": "42",
                                    "Appointment_Outcome": "No-Show"
                                },
                                {
                                    "Waiting time in days": "274",
                                    "Count": "42",
                                    "Appointment_Outcome": "No-Show"
                                },
                                {
                                    "Waiting time in days": "282",
                                    "Count": "42",
                                    "Appointment_Outcome": "No-Show"
                                },
                                {
                                    "Waiting time in days": "284",
                                    "Count": "42",
                                    "Appointment_Outcome": "No-Show"
                                },
                                {
                                    "Waiting time in days": "241",
                                    "Count": "42",
                                    "Appointment_Outcome": "No-Show"
                                },
                                {
                                    "Waiting time in days": "243",
                                    "Count": "42",
                                    "Appointment_Outcome": "No-Show"
                                },
                                {
                                    "Waiting time in days": "252",
                                    "Count": "42",
                                    "Appointment_Outcome": "No-Show"
                                },
                                {
                                    "Waiting time in days": "225",
                                    "Count": "42",
                                    "Appointment_Outcome": "No-Show"
                                },
                                {
                                    "Waiting time in days": "242",
                                    "Count": "41",
                                    "Appointment_Outcome": "No-Show"
                                },
                                {
                                    "Waiting time in days": "265",
                                    "Count": "41",
                                    "Appointment_Outcome": "No-Show"
                                },
                                {
                                    "Waiting time in days": "278",
                                    "Count": "41",
                                    "Appointment_Outcome": "No-Show"
                                },
                                {
                                    "Waiting time in days": "162",
                                    "Count": "41",
                                    "Appointment_Outcome": "No-Show"
                                },
                                {
                                    "Waiting time in days": "171",
                                    "Count": "41",
                                    "Appointment_Outcome": "No-Show"
                                },
                                {
                                    "Waiting time in days": "210",
                                    "Count": "41",
                                    "Appointment_Outcome": "No-Show"
                                },
                                {
                                    "Waiting time in days": "204",
                                    "Count": "41",
                                    "Appointment_Outcome": "No-Show"
                                },
                                {
                                    "Waiting time in days": "183",
                                    "Count": "41",
                                    "Appointment_Outcome": "No-Show"
                                },
                                {
                                    "Waiting time in days": "188",
                                    "Count": "41",
                                    "Appointment_Outcome": "No-Show"
                                },
                                {
                                    "Waiting time in days": "7",
                                    "Count": "41",
                                    "Appointment_Outcome": "No-Show"
                                },
                                {
                                    "Waiting time in days": "63",
                                    "Count": "41",
                                    "Appointment_Outcome": "No-Show"
                                },
                                {
                                    "Waiting time in days": "67",
                                    "Count": "41",
                                    "Appointment_Outcome": "No-Show"
                                },
                                {
                                    "Waiting time in days": "49",
                                    "Count": "41",
                                    "Appointment_Outcome": "No-Show"
                                },
                                {
                                    "Waiting time in days": "46",
                                    "Count": "41",
                                    "Appointment_Outcome": "No-Show"
                                },
                                {
                                    "Waiting time in days": "52",
                                    "Count": "41",
                                    "Appointment_Outcome": "No-Show"
                                },
                                {
                                    "Waiting time in days": "76",
                                    "Count": "41",
                                    "Appointment_Outcome": "No-Show"
                                },
                                {
                                    "Waiting time in days": "94",
                                    "Count": "41",
                                    "Appointment_Outcome": "No-Show"
                                },
                                {
                                    "Waiting time in days": "95",
                                    "Count": "41",
                                    "Appointment_Outcome": "No-Show"
                                },
                                {
                                    "Waiting time in days": "143",
                                    "Count": "41",
                                    "Appointment_Outcome": "No-Show"
                                },
                                {
                                    "Waiting time in days": "140",
                                    "Count": "41",
                                    "Appointment_Outcome": "No-Show"
                                },
                                {
                                    "Waiting time in days": "117",
                                    "Count": "41",
                                    "Appointment_Outcome": "No-Show"
                                },
                                {
                                    "Waiting time in days": "124",
                                    "Count": "41",
                                    "Appointment_Outcome": "No-Show"
                                },
                                {
                                    "Waiting time in days": "125",
                                    "Count": "41",
                                    "Appointment_Outcome": "No-Show"
                                },
                                {
                                    "Waiting time in days": "114",
                                    "Count": "41",
                                    "Appointment_Outcome": "No-Show"
                                },
                                {
                                    "Waiting time in days": "314",
                                    "Count": "41",
                                    "Appointment_Outcome": "No-Show"
                                },
                                {
                                    "Waiting time in days": "309",
                                    "Count": "41",
                                    "Appointment_Outcome": "No-Show"
                                },
                                {
                                    "Waiting time in days": "326",
                                    "Count": "41",
                                    "Appointment_Outcome": "No-Show"
                                },
                                {
                                    "Waiting time in days": "327",
                                    "Count": "41",
                                    "Appointment_Outcome": "No-Show"
                                },
                                {
                                    "Waiting time in days": "359",
                                    "Count": "41",
                                    "Appointment_Outcome": "No-Show"
                                },
                                {
                                    "Waiting time in days": "353",
                                    "Count": "41",
                                    "Appointment_Outcome": "No-Show"
                                },
                                {
                                    "Waiting time in days": "345",
                                    "Count": "41",
                                    "Appointment_Outcome": "No-Show"
                                },
                                {
                                    "Waiting time in days": "417",
                                    "Count": "41",
                                    "Appointment_Outcome": "No-Show"
                                },
                                {
                                    "Waiting time in days": "433",
                                    "Count": "41",
                                    "Appointment_Outcome": "No-Show"
                                },
                                {
                                    "Waiting time in days": "446",
                                    "Count": "40",
                                    "Appointment_Outcome": "No-Show"
                                },
                                {
                                    "Waiting time in days": "414",
                                    "Count": "40",
                                    "Appointment_Outcome": "No-Show"
                                },
                                {
                                    "Waiting time in days": "415",
                                    "Count": "40",
                                    "Appointment_Outcome": "No-Show"
                                },
                                {
                                    "Waiting time in days": "408",
                                    "Count": "40",
                                    "Appointment_Outcome": "No-Show"
                                },
                                {
                                    "Waiting time in days": "400",
                                    "Count": "40",
                                    "Appointment_Outcome": "No-Show"
                                },
                                {
                                    "Waiting time in days": "396",
                                    "Count": "40",
                                    "Appointment_Outcome": "No-Show"
                                },
                                {
                                    "Waiting time in days": "381",
                                    "Count": "40",
                                    "Appointment_Outcome": "No-Show"
                                },
                                {
                                    "Waiting time in days": "362",
                                    "Count": "40",
                                    "Appointment_Outcome": "No-Show"
                                },
                                {
                                    "Waiting time in days": "322",
                                    "Count": "40",
                                    "Appointment_Outcome": "No-Show"
                                },
                                {
                                    "Waiting time in days": "96",
                                    "Count": "40",
                                    "Appointment_Outcome": "No-Show"
                                },
                                {
                                    "Waiting time in days": "104",
                                    "Count": "40",
                                    "Appointment_Outcome": "No-Show"
                                },
                                {
                                    "Waiting time in days": "80",
                                    "Count": "40",
                                    "Appointment_Outcome": "No-Show"
                                },
                                {
                                    "Waiting time in days": "81",
                                    "Count": "40",
                                    "Appointment_Outcome": "No-Show"
                                },
                                {
                                    "Waiting time in days": "64",
                                    "Count": "40",
                                    "Appointment_Outcome": "No-Show"
                                },
                                {
                                    "Waiting time in days": "8",
                                    "Count": "40",
                                    "Appointment_Outcome": "No-Show"
                                },
                                {
                                    "Waiting time in days": "19",
                                    "Count": "40",
                                    "Appointment_Outcome": "No-Show"
                                },
                                {
                                    "Waiting time in days": "16",
                                    "Count": "40",
                                    "Appointment_Outcome": "No-Show"
                                },
                                {
                                    "Waiting time in days": "27",
                                    "Count": "40",
                                    "Appointment_Outcome": "No-Show"
                                },
                                {
                                    "Waiting time in days": "35",
                                    "Count": "40",
                                    "Appointment_Outcome": "No-Show"
                                },
                                {
                                    "Waiting time in days": "182",
                                    "Count": "40",
                                    "Appointment_Outcome": "No-Show"
                                },
                                {
                                    "Waiting time in days": "219",
                                    "Count": "40",
                                    "Appointment_Outcome": "No-Show"
                                },
                                {
                                    "Waiting time in days": "154",
                                    "Count": "40",
                                    "Appointment_Outcome": "No-Show"
                                },
                                {
                                    "Waiting time in days": "280",
                                    "Count": "40",
                                    "Appointment_Outcome": "No-Show"
                                },
                                {
                                    "Waiting time in days": "285",
                                    "Count": "40",
                                    "Appointment_Outcome": "No-Show"
                                },
                                {
                                    "Waiting time in days": "275",
                                    "Count": "40",
                                    "Appointment_Outcome": "No-Show"
                                },
                                {
                                    "Waiting time in days": "268",
                                    "Count": "40",
                                    "Appointment_Outcome": "No-Show"
                                },
                                {
                                    "Waiting time in days": "223",
                                    "Count": "40",
                                    "Appointment_Outcome": "No-Show"
                                },
                                {
                                    "Waiting time in days": "229",
                                    "Count": "39",
                                    "Appointment_Outcome": "No-Show"
                                },
                                {
                                    "Waiting time in days": "269",
                                    "Count": "39",
                                    "Appointment_Outcome": "No-Show"
                                },
                                {
                                    "Waiting time in days": "260",
                                    "Count": "39",
                                    "Appointment_Outcome": "No-Show"
                                },
                                {
                                    "Waiting time in days": "160",
                                    "Count": "39",
                                    "Appointment_Outcome": "No-Show"
                                },
                                {
                                    "Waiting time in days": "150",
                                    "Count": "39",
                                    "Appointment_Outcome": "No-Show"
                                },
                                {
                                    "Waiting time in days": "172",
                                    "Count": "39",
                                    "Appointment_Outcome": "No-Show"
                                },
                                {
                                    "Waiting time in days": "165",
                                    "Count": "39",
                                    "Appointment_Outcome": "No-Show"
                                },
                                {
                                    "Waiting time in days": "175",
                                    "Count": "39",
                                    "Appointment_Outcome": "No-Show"
                                },
                                {
                                    "Waiting time in days": "194",
                                    "Count": "39",
                                    "Appointment_Outcome": "No-Show"
                                },
                                {
                                    "Waiting time in days": "206",
                                    "Count": "39",
                                    "Appointment_Outcome": "No-Show"
                                },
                                {
                                    "Waiting time in days": "186",
                                    "Count": "39",
                                    "Appointment_Outcome": "No-Show"
                                },
                                {
                                    "Waiting time in days": "33",
                                    "Count": "39",
                                    "Appointment_Outcome": "No-Show"
                                },
                                {
                                    "Waiting time in days": "11",
                                    "Count": "39",
                                    "Appointment_Outcome": "No-Show"
                                },
                                {
                                    "Waiting time in days": "1",
                                    "Count": "39",
                                    "Appointment_Outcome": "No-Show"
                                },
                                {
                                    "Waiting time in days": "2",
                                    "Count": "39",
                                    "Appointment_Outcome": "No-Show"
                                },
                                {
                                    "Waiting time in days": "69",
                                    "Count": "39",
                                    "Appointment_Outcome": "No-Show"
                                },
                                {
                                    "Waiting time in days": "115",
                                    "Count": "39",
                                    "Appointment_Outcome": "No-Show"
                                },
                                {
                                    "Waiting time in days": "127",
                                    "Count": "39",
                                    "Appointment_Outcome": "No-Show"
                                },
                                {
                                    "Waiting time in days": "136",
                                    "Count": "39",
                                    "Appointment_Outcome": "No-Show"
                                },
                                {
                                    "Waiting time in days": "132",
                                    "Count": "39",
                                    "Appointment_Outcome": "No-Show"
                                },
                                {
                                    "Waiting time in days": "328",
                                    "Count": "39",
                                    "Appointment_Outcome": "No-Show"
                                },
                                {
                                    "Waiting time in days": "312",
                                    "Count": "39",
                                    "Appointment_Outcome": "No-Show"
                                },
                                {
                                    "Waiting time in days": "305",
                                    "Count": "39",
                                    "Appointment_Outcome": "No-Show"
                                },
                                {
                                    "Waiting time in days": "397",
                                    "Count": "39",
                                    "Appointment_Outcome": "No-Show"
                                },
                                {
                                    "Waiting time in days": "407",
                                    "Count": "38",
                                    "Appointment_Outcome": "No-Show"
                                },
                                {
                                    "Waiting time in days": "432",
                                    "Count": "38",
                                    "Appointment_Outcome": "No-Show"
                                },
                                {
                                    "Waiting time in days": "308",
                                    "Count": "38",
                                    "Appointment_Outcome": "No-Show"
                                },
                                {
                                    "Waiting time in days": "295",
                                    "Count": "38",
                                    "Appointment_Outcome": "No-Show"
                                },
                                {
                                    "Waiting time in days": "354",
                                    "Count": "38",
                                    "Appointment_Outcome": "No-Show"
                                },
                                {
                                    "Waiting time in days": "347",
                                    "Count": "38",
                                    "Appointment_Outcome": "No-Show"
                                },
                                {
                                    "Waiting time in days": "435",
                                    "Count": "38",
                                    "Appointment_Outcome": "No-Show"
                                },
                                {
                                    "Waiting time in days": "73",
                                    "Count": "38",
                                    "Appointment_Outcome": "No-Show"
                                },
                                {
                                    "Waiting time in days": "105",
                                    "Count": "38",
                                    "Appointment_Outcome": "No-Show"
                                },
                                {
                                    "Waiting time in days": "71",
                                    "Count": "38",
                                    "Appointment_Outcome": "No-Show"
                                },
                                {
                                    "Waiting time in days": "50",
                                    "Count": "38",
                                    "Appointment_Outcome": "No-Show"
                                },
                                {
                                    "Waiting time in days": "15",
                                    "Count": "38",
                                    "Appointment_Outcome": "No-Show"
                                },
                                {
                                    "Waiting time in days": "17",
                                    "Count": "38",
                                    "Appointment_Outcome": "No-Show"
                                },
                                {
                                    "Waiting time in days": "28",
                                    "Count": "38",
                                    "Appointment_Outcome": "No-Show"
                                },
                                {
                                    "Waiting time in days": "184",
                                    "Count": "38",
                                    "Appointment_Outcome": "No-Show"
                                },
                                {
                                    "Waiting time in days": "167",
                                    "Count": "38",
                                    "Appointment_Outcome": "No-Show"
                                },
                                {
                                    "Waiting time in days": "152",
                                    "Count": "38",
                                    "Appointment_Outcome": "No-Show"
                                },
                                {
                                    "Waiting time in days": "153",
                                    "Count": "38",
                                    "Appointment_Outcome": "No-Show"
                                },
                                {
                                    "Waiting time in days": "145",
                                    "Count": "38",
                                    "Appointment_Outcome": "No-Show"
                                },
                                {
                                    "Waiting time in days": "146",
                                    "Count": "38",
                                    "Appointment_Outcome": "No-Show"
                                },
                                {
                                    "Waiting time in days": "277",
                                    "Count": "38",
                                    "Appointment_Outcome": "No-Show"
                                },
                                {
                                    "Waiting time in days": "247",
                                    "Count": "38",
                                    "Appointment_Outcome": "No-Show"
                                },
                                {
                                    "Waiting time in days": "245",
                                    "Count": "38",
                                    "Appointment_Outcome": "No-Show"
                                },
                                {
                                    "Waiting time in days": "235",
                                    "Count": "37",
                                    "Appointment_Outcome": "No-Show"
                                },
                                {
                                    "Waiting time in days": "255",
                                    "Count": "37",
                                    "Appointment_Outcome": "No-Show"
                                },
                                {
                                    "Waiting time in days": "270",
                                    "Count": "37",
                                    "Appointment_Outcome": "No-Show"
                                },
                                {
                                    "Waiting time in days": "168",
                                    "Count": "37",
                                    "Appointment_Outcome": "No-Show"
                                },
                                {
                                    "Waiting time in days": "169",
                                    "Count": "37",
                                    "Appointment_Outcome": "No-Show"
                                },
                                {
                                    "Waiting time in days": "190",
                                    "Count": "37",
                                    "Appointment_Outcome": "No-Show"
                                },
                                {
                                    "Waiting time in days": "5",
                                    "Count": "37",
                                    "Appointment_Outcome": "No-Show"
                                },
                                {
                                    "Waiting time in days": "43",
                                    "Count": "37",
                                    "Appointment_Outcome": "No-Show"
                                },
                                {
                                    "Waiting time in days": "41",
                                    "Count": "37",
                                    "Appointment_Outcome": "No-Show"
                                },
                                {
                                    "Waiting time in days": "48",
                                    "Count": "37",
                                    "Appointment_Outcome": "No-Show"
                                },
                                {
                                    "Waiting time in days": "70",
                                    "Count": "37",
                                    "Appointment_Outcome": "No-Show"
                                },
                                {
                                    "Waiting time in days": "56",
                                    "Count": "37",
                                    "Appointment_Outcome": "No-Show"
                                },
                                {
                                    "Waiting time in days": "57",
                                    "Count": "37",
                                    "Appointment_Outcome": "No-Show"
                                },
                                {
                                    "Waiting time in days": "102",
                                    "Count": "37",
                                    "Appointment_Outcome": "No-Show"
                                },
                                {
                                    "Waiting time in days": "75",
                                    "Count": "37",
                                    "Appointment_Outcome": "No-Show"
                                },
                                {
                                    "Waiting time in days": "131",
                                    "Count": "37",
                                    "Appointment_Outcome": "No-Show"
                                },
                                {
                                    "Waiting time in days": "440",
                                    "Count": "37",
                                    "Appointment_Outcome": "No-Show"
                                },
                                {
                                    "Waiting time in days": "447",
                                    "Count": "37",
                                    "Appointment_Outcome": "No-Show"
                                },
                                {
                                    "Waiting time in days": "442",
                                    "Count": "37",
                                    "Appointment_Outcome": "No-Show"
                                },
                                {
                                    "Waiting time in days": "474",
                                    "Count": "37",
                                    "Appointment_Outcome": "No-Show"
                                },
                                {
                                    "Waiting time in days": "324",
                                    "Count": "37",
                                    "Appointment_Outcome": "No-Show"
                                },
                                {
                                    "Waiting time in days": "319",
                                    "Count": "37",
                                    "Appointment_Outcome": "No-Show"
                                },
                                {
                                    "Waiting time in days": "431",
                                    "Count": "37",
                                    "Appointment_Outcome": "No-Show"
                                },
                                {
                                    "Waiting time in days": "424",
                                    "Count": "37",
                                    "Appointment_Outcome": "No-Show"
                                },
                                {
                                    "Waiting time in days": "418",
                                    "Count": "37",
                                    "Appointment_Outcome": "No-Show"
                                },
                                {
                                    "Waiting time in days": "377",
                                    "Count": "37",
                                    "Appointment_Outcome": "No-Show"
                                },
                                {
                                    "Waiting time in days": "383",
                                    "Count": "37",
                                    "Appointment_Outcome": "No-Show"
                                },
                                {
                                    "Waiting time in days": "370",
                                    "Count": "37",
                                    "Appointment_Outcome": "No-Show"
                                },
                                {
                                    "Waiting time in days": "388",
                                    "Count": "36",
                                    "Appointment_Outcome": "No-Show"
                                },
                                {
                                    "Waiting time in days": "392",
                                    "Count": "36",
                                    "Appointment_Outcome": "No-Show"
                                },
                                {
                                    "Waiting time in days": "426",
                                    "Count": "36",
                                    "Appointment_Outcome": "No-Show"
                                },
                                {
                                    "Waiting time in days": "401",
                                    "Count": "36",
                                    "Appointment_Outcome": "No-Show"
                                },
                                {
                                    "Waiting time in days": "341",
                                    "Count": "36",
                                    "Appointment_Outcome": "No-Show"
                                },
                                {
                                    "Waiting time in days": "464",
                                    "Count": "36",
                                    "Appointment_Outcome": "No-Show"
                                },
                                {
                                    "Waiting time in days": "89",
                                    "Count": "36",
                                    "Appointment_Outcome": "No-Show"
                                },
                                {
                                    "Waiting time in days": "103",
                                    "Count": "36",
                                    "Appointment_Outcome": "No-Show"
                                },
                                {
                                    "Waiting time in days": "62",
                                    "Count": "36",
                                    "Appointment_Outcome": "No-Show"
                                },
                                {
                                    "Waiting time in days": "51",
                                    "Count": "36",
                                    "Appointment_Outcome": "No-Show"
                                },
                                {
                                    "Waiting time in days": "42",
                                    "Count": "36",
                                    "Appointment_Outcome": "No-Show"
                                },
                                {
                                    "Waiting time in days": "25",
                                    "Count": "36",
                                    "Appointment_Outcome": "No-Show"
                                },
                                {
                                    "Waiting time in days": "198",
                                    "Count": "36",
                                    "Appointment_Outcome": "No-Show"
                                },
                                {
                                    "Waiting time in days": "196",
                                    "Count": "36",
                                    "Appointment_Outcome": "No-Show"
                                },
                                {
                                    "Waiting time in days": "164",
                                    "Count": "36",
                                    "Appointment_Outcome": "No-Show"
                                },
                                {
                                    "Waiting time in days": "181",
                                    "Count": "36",
                                    "Appointment_Outcome": "No-Show"
                                },
                                {
                                    "Waiting time in days": "271",
                                    "Count": "36",
                                    "Appointment_Outcome": "No-Show"
                                },
                                {
                                    "Waiting time in days": "263",
                                    "Count": "36",
                                    "Appointment_Outcome": "No-Show"
                                },
                                {
                                    "Waiting time in days": "289",
                                    "Count": "36",
                                    "Appointment_Outcome": "No-Show"
                                },
                                {
                                    "Waiting time in days": "248",
                                    "Count": "36",
                                    "Appointment_Outcome": "No-Show"
                                },
                                {
                                    "Waiting time in days": "261",
                                    "Count": "35",
                                    "Appointment_Outcome": "No-Show"
                                },
                                {
                                    "Waiting time in days": "156",
                                    "Count": "35",
                                    "Appointment_Outcome": "No-Show"
                                },
                                {
                                    "Waiting time in days": "157",
                                    "Count": "35",
                                    "Appointment_Outcome": "No-Show"
                                },
                                {
                                    "Waiting time in days": "6",
                                    "Count": "35",
                                    "Appointment_Outcome": "No-Show"
                                },
                                {
                                    "Waiting time in days": "9",
                                    "Count": "35",
                                    "Appointment_Outcome": "No-Show"
                                },
                                {
                                    "Waiting time in days": "100",
                                    "Count": "35",
                                    "Appointment_Outcome": "No-Show"
                                },
                                {
                                    "Waiting time in days": "128",
                                    "Count": "35",
                                    "Appointment_Outcome": "No-Show"
                                },
                                {
                                    "Waiting time in days": "118",
                                    "Count": "35",
                                    "Appointment_Outcome": "No-Show"
                                },
                                {
                                    "Waiting time in days": "119",
                                    "Count": "35",
                                    "Appointment_Outcome": "No-Show"
                                },
                                {
                                    "Waiting time in days": "116",
                                    "Count": "35",
                                    "Appointment_Outcome": "No-Show"
                                },
                                {
                                    "Waiting time in days": "113",
                                    "Count": "35",
                                    "Appointment_Outcome": "No-Show"
                                },
                                {
                                    "Waiting time in days": "450",
                                    "Count": "35",
                                    "Appointment_Outcome": "No-Show"
                                },
                                {
                                    "Waiting time in days": "457",
                                    "Count": "35",
                                    "Appointment_Outcome": "No-Show"
                                },
                                {
                                    "Waiting time in days": "444",
                                    "Count": "35",
                                    "Appointment_Outcome": "No-Show"
                                },
                                {
                                    "Waiting time in days": "330",
                                    "Count": "35",
                                    "Appointment_Outcome": "No-Show"
                                },
                                {
                                    "Waiting time in days": "320",
                                    "Count": "35",
                                    "Appointment_Outcome": "No-Show"
                                },
                                {
                                    "Waiting time in days": "427",
                                    "Count": "35",
                                    "Appointment_Outcome": "No-Show"
                                },
                                {
                                    "Waiting time in days": "378",
                                    "Count": "35",
                                    "Appointment_Outcome": "No-Show"
                                },
                                {
                                    "Waiting time in days": "375",
                                    "Count": "35",
                                    "Appointment_Outcome": "No-Show"
                                },
                                {
                                    "Waiting time in days": "369",
                                    "Count": "34",
                                    "Appointment_Outcome": "No-Show"
                                },
                                {
                                    "Waiting time in days": "430",
                                    "Count": "34",
                                    "Appointment_Outcome": "No-Show"
                                },
                                {
                                    "Waiting time in days": "419",
                                    "Count": "34",
                                    "Appointment_Outcome": "No-Show"
                                },
                                {
                                    "Waiting time in days": "411",
                                    "Count": "34",
                                    "Appointment_Outcome": "No-Show"
                                },
                                {
                                    "Waiting time in days": "356",
                                    "Count": "34",
                                    "Appointment_Outcome": "No-Show"
                                },
                                {
                                    "Waiting time in days": "493",
                                    "Count": "34",
                                    "Appointment_Outcome": "No-Show"
                                },
                                {
                                    "Waiting time in days": "88",
                                    "Count": "34",
                                    "Appointment_Outcome": "No-Show"
                                },
                                {
                                    "Waiting time in days": "37",
                                    "Count": "34",
                                    "Appointment_Outcome": "No-Show"
                                },
                                {
                                    "Waiting time in days": "72",
                                    "Count": "34",
                                    "Appointment_Outcome": "No-Show"
                                },
                                {
                                    "Waiting time in days": "149",
                                    "Count": "34",
                                    "Appointment_Outcome": "No-Show"
                                },
                                {
                                    "Waiting time in days": "170",
                                    "Count": "34",
                                    "Appointment_Outcome": "No-Show"
                                },
                                {
                                    "Waiting time in days": "193",
                                    "Count": "34",
                                    "Appointment_Outcome": "No-Show"
                                },
                                {
                                    "Waiting time in days": "286",
                                    "Count": "34",
                                    "Appointment_Outcome": "No-Show"
                                },
                                {
                                    "Waiting time in days": "264",
                                    "Count": "33",
                                    "Appointment_Outcome": "No-Show"
                                },
                                {
                                    "Waiting time in days": "244",
                                    "Count": "33",
                                    "Appointment_Outcome": "No-Show"
                                },
                                {
                                    "Waiting time in days": "240",
                                    "Count": "33",
                                    "Appointment_Outcome": "No-Show"
                                },
                                {
                                    "Waiting time in days": "213",
                                    "Count": "33",
                                    "Appointment_Outcome": "No-Show"
                                },
                                {
                                    "Waiting time in days": "179",
                                    "Count": "33",
                                    "Appointment_Outcome": "No-Show"
                                },
                                {
                                    "Waiting time in days": "163",
                                    "Count": "33",
                                    "Appointment_Outcome": "No-Show"
                                },
                                {
                                    "Waiting time in days": "13",
                                    "Count": "33",
                                    "Appointment_Outcome": "No-Show"
                                },
                                {
                                    "Waiting time in days": "14",
                                    "Count": "33",
                                    "Appointment_Outcome": "No-Show"
                                },
                                {
                                    "Waiting time in days": "77",
                                    "Count": "33",
                                    "Appointment_Outcome": "No-Show"
                                },
                                {
                                    "Waiting time in days": "477",
                                    "Count": "33",
                                    "Appointment_Outcome": "No-Show"
                                },
                                {
                                    "Waiting time in days": "471",
                                    "Count": "33",
                                    "Appointment_Outcome": "No-Show"
                                },
                                {
                                    "Waiting time in days": "480",
                                    "Count": "33",
                                    "Appointment_Outcome": "No-Show"
                                },
                                {
                                    "Waiting time in days": "465",
                                    "Count": "33",
                                    "Appointment_Outcome": "No-Show"
                                },
                                {
                                    "Waiting time in days": "507",
                                    "Count": "33",
                                    "Appointment_Outcome": "No-Show"
                                },
                                {
                                    "Waiting time in days": "346",
                                    "Count": "33",
                                    "Appointment_Outcome": "No-Show"
                                },
                                {
                                    "Waiting time in days": "413",
                                    "Count": "33",
                                    "Appointment_Outcome": "No-Show"
                                },
                                {
                                    "Waiting time in days": "421",
                                    "Count": "33",
                                    "Appointment_Outcome": "No-Show"
                                },
                                {
                                    "Waiting time in days": "365",
                                    "Count": "33",
                                    "Appointment_Outcome": "No-Show"
                                },
                                {
                                    "Waiting time in days": "374",
                                    "Count": "33",
                                    "Appointment_Outcome": "No-Show"
                                },
                                {
                                    "Waiting time in days": "382",
                                    "Count": "33",
                                    "Appointment_Outcome": "No-Show"
                                },
                                {
                                    "Waiting time in days": "390",
                                    "Count": "32",
                                    "Appointment_Outcome": "No-Show"
                                },
                                {
                                    "Waiting time in days": "425",
                                    "Count": "32",
                                    "Appointment_Outcome": "No-Show"
                                },
                                {
                                    "Waiting time in days": "462",
                                    "Count": "32",
                                    "Appointment_Outcome": "No-Show"
                                },
                                {
                                    "Waiting time in days": "454",
                                    "Count": "32",
                                    "Appointment_Outcome": "No-Show"
                                },
                                {
                                    "Waiting time in days": "455",
                                    "Count": "32",
                                    "Appointment_Outcome": "No-Show"
                                },
                                {
                                    "Waiting time in days": "441",
                                    "Count": "32",
                                    "Appointment_Outcome": "No-Show"
                                },
                                {
                                    "Waiting time in days": "479",
                                    "Count": "32",
                                    "Appointment_Outcome": "No-Show"
                                },
                                {
                                    "Waiting time in days": "135",
                                    "Count": "32",
                                    "Appointment_Outcome": "No-Show"
                                },
                                {
                                    "Waiting time in days": "26",
                                    "Count": "32",
                                    "Appointment_Outcome": "No-Show"
                                },
                                {
                                    "Waiting time in days": "173",
                                    "Count": "32",
                                    "Appointment_Outcome": "No-Show"
                                },
                                {
                                    "Waiting time in days": "232",
                                    "Count": "32",
                                    "Appointment_Outcome": "No-Show"
                                },
                                {
                                    "Waiting time in days": "254",
                                    "Count": "32",
                                    "Appointment_Outcome": "No-Show"
                                },
                                {
                                    "Waiting time in days": "148",
                                    "Count": "31",
                                    "Appointment_Outcome": "No-Show"
                                },
                                {
                                    "Waiting time in days": "66",
                                    "Count": "31",
                                    "Appointment_Outcome": "No-Show"
                                },
                                {
                                    "Waiting time in days": "61",
                                    "Count": "31",
                                    "Appointment_Outcome": "No-Show"
                                },
                                {
                                    "Waiting time in days": "54",
                                    "Count": "31",
                                    "Appointment_Outcome": "No-Show"
                                },
                                {
                                    "Waiting time in days": "90",
                                    "Count": "31",
                                    "Appointment_Outcome": "No-Show"
                                },
                                {
                                    "Waiting time in days": "491",
                                    "Count": "31",
                                    "Appointment_Outcome": "No-Show"
                                },
                                {
                                    "Waiting time in days": "492",
                                    "Count": "31",
                                    "Appointment_Outcome": "No-Show"
                                },
                                {
                                    "Waiting time in days": "498",
                                    "Count": "31",
                                    "Appointment_Outcome": "No-Show"
                                },
                                {
                                    "Waiting time in days": "463",
                                    "Count": "31",
                                    "Appointment_Outcome": "No-Show"
                                },
                                {
                                    "Waiting time in days": "503",
                                    "Count": "31",
                                    "Appointment_Outcome": "No-Show"
                                },
                                {
                                    "Waiting time in days": "406",
                                    "Count": "31",
                                    "Appointment_Outcome": "No-Show"
                                },
                                {
                                    "Waiting time in days": "391",
                                    "Count": "31",
                                    "Appointment_Outcome": "No-Show"
                                },
                                {
                                    "Waiting time in days": "387",
                                    "Count": "31",
                                    "Appointment_Outcome": "No-Show"
                                },
                                {
                                    "Waiting time in days": "384",
                                    "Count": "31",
                                    "Appointment_Outcome": "No-Show"
                                },
                                {
                                    "Waiting time in days": "372",
                                    "Count": "31",
                                    "Appointment_Outcome": "No-Show"
                                },
                                {
                                    "Waiting time in days": "339",
                                    "Count": "31",
                                    "Appointment_Outcome": "No-Show"
                                },
                                {
                                    "Waiting time in days": "368",
                                    "Count": "30",
                                    "Appointment_Outcome": "No-Show"
                                },
                                {
                                    "Waiting time in days": "385",
                                    "Count": "30",
                                    "Appointment_Outcome": "No-Show"
                                },
                                {
                                    "Waiting time in days": "403",
                                    "Count": "30",
                                    "Appointment_Outcome": "No-Show"
                                },
                                {
                                    "Waiting time in days": "404",
                                    "Count": "30",
                                    "Appointment_Outcome": "No-Show"
                                },
                                {
                                    "Waiting time in days": "399",
                                    "Count": "30",
                                    "Appointment_Outcome": "No-Show"
                                },
                                {
                                    "Waiting time in days": "429",
                                    "Count": "30",
                                    "Appointment_Outcome": "No-Show"
                                },
                                {
                                    "Waiting time in days": "526",
                                    "Count": "30",
                                    "Appointment_Outcome": "No-Show"
                                },
                                {
                                    "Waiting time in days": "467",
                                    "Count": "30",
                                    "Appointment_Outcome": "No-Show"
                                },
                                {
                                    "Waiting time in days": "233",
                                    "Count": "30",
                                    "Appointment_Outcome": "No-Show"
                                },
                                {
                                    "Waiting time in days": "133",
                                    "Count": "29",
                                    "Appointment_Outcome": "No-Show"
                                },
                                {
                                    "Waiting time in days": "452",
                                    "Count": "29",
                                    "Appointment_Outcome": "No-Show"
                                },
                                {
                                    "Waiting time in days": "485",
                                    "Count": "29",
                                    "Appointment_Outcome": "No-Show"
                                },
                                {
                                    "Waiting time in days": "469",
                                    "Count": "29",
                                    "Appointment_Outcome": "No-Show"
                                },
                                {
                                    "Waiting time in days": "475",
                                    "Count": "29",
                                    "Appointment_Outcome": "No-Show"
                                },
                                {
                                    "Waiting time in days": "523",
                                    "Count": "29",
                                    "Appointment_Outcome": "No-Show"
                                },
                                {
                                    "Waiting time in days": "428",
                                    "Count": "29",
                                    "Appointment_Outcome": "No-Show"
                                },
                                {
                                    "Waiting time in days": "373",
                                    "Count": "29",
                                    "Appointment_Outcome": "No-Show"
                                },
                                {
                                    "Waiting time in days": "333",
                                    "Count": "28",
                                    "Appointment_Outcome": "No-Show"
                                },
                                {
                                    "Waiting time in days": "517",
                                    "Count": "28",
                                    "Appointment_Outcome": "No-Show"
                                },
                                {
                                    "Waiting time in days": "470",
                                    "Count": "28",
                                    "Appointment_Outcome": "No-Show"
                                },
                                {
                                    "Waiting time in days": "443",
                                    "Count": "28",
                                    "Appointment_Outcome": "No-Show"
                                },
                                {
                                    "Waiting time in days": "439",
                                    "Count": "28",
                                    "Appointment_Outcome": "No-Show"
                                },
                                {
                                    "Waiting time in days": "45",
                                    "Count": "28",
                                    "Appointment_Outcome": "No-Show"
                                },
                                {
                                    "Waiting time in days": "445",
                                    "Count": "27",
                                    "Appointment_Outcome": "No-Show"
                                },
                                {
                                    "Waiting time in days": "434",
                                    "Count": "27",
                                    "Appointment_Outcome": "No-Show"
                                },
                                {
                                    "Waiting time in days": "486",
                                    "Count": "27",
                                    "Appointment_Outcome": "No-Show"
                                },
                                {
                                    "Waiting time in days": "495",
                                    "Count": "27",
                                    "Appointment_Outcome": "No-Show"
                                },
                                {
                                    "Waiting time in days": "502",
                                    "Count": "27",
                                    "Appointment_Outcome": "No-Show"
                                },
                                {
                                    "Waiting time in days": "386",
                                    "Count": "27",
                                    "Appointment_Outcome": "No-Show"
                                },
                                {
                                    "Waiting time in days": "422",
                                    "Count": "27",
                                    "Appointment_Outcome": "No-Show"
                                },
                                {
                                    "Waiting time in days": "416",
                                    "Count": "27",
                                    "Appointment_Outcome": "No-Show"
                                },
                                {
                                    "Waiting time in days": "423",
                                    "Count": "26",
                                    "Appointment_Outcome": "No-Show"
                                },
                                {
                                    "Waiting time in days": "499",
                                    "Count": "26",
                                    "Appointment_Outcome": "No-Show"
                                },
                                {
                                    "Waiting time in days": "481",
                                    "Count": "26",
                                    "Appointment_Outcome": "No-Show"
                                },
                                {
                                    "Waiting time in days": "472",
                                    "Count": "26",
                                    "Appointment_Outcome": "No-Show"
                                },
                                {
                                    "Waiting time in days": "436",
                                    "Count": "26",
                                    "Appointment_Outcome": "No-Show"
                                },
                                {
                                    "Waiting time in days": "437",
                                    "Count": "26",
                                    "Appointment_Outcome": "No-Show"
                                },
                                {
                                    "Waiting time in days": "451",
                                    "Count": "26",
                                    "Appointment_Outcome": "No-Show"
                                },
                                {
                                    "Waiting time in days": "460",
                                    "Count": "26",
                                    "Appointment_Outcome": "No-Show"
                                },
                                {
                                    "Waiting time in days": "518",
                                    "Count": "26",
                                    "Appointment_Outcome": "No-Show"
                                },
                                {
                                    "Waiting time in days": "512",
                                    "Count": "25",
                                    "Appointment_Outcome": "No-Show"
                                },
                                {
                                    "Waiting time in days": "541",
                                    "Count": "25",
                                    "Appointment_Outcome": "No-Show"
                                },
                                {
                                    "Waiting time in days": "564",
                                    "Count": "25",
                                    "Appointment_Outcome": "No-Show"
                                },
                                {
                                    "Waiting time in days": "468",
                                    "Count": "25",
                                    "Appointment_Outcome": "No-Show"
                                },
                                {
                                    "Waiting time in days": "456",
                                    "Count": "25",
                                    "Appointment_Outcome": "No-Show"
                                },
                                {
                                    "Waiting time in days": "458",
                                    "Count": "25",
                                    "Appointment_Outcome": "No-Show"
                                },
                                {
                                    "Waiting time in days": "473",
                                    "Count": "25",
                                    "Appointment_Outcome": "No-Show"
                                },
                                {
                                    "Waiting time in days": "487",
                                    "Count": "25",
                                    "Appointment_Outcome": "No-Show"
                                },
                                {
                                    "Waiting time in days": "500",
                                    "Count": "25",
                                    "Appointment_Outcome": "No-Show"
                                },
                                {
                                    "Waiting time in days": "484",
                                    "Count": "25",
                                    "Appointment_Outcome": "No-Show"
                                },
                                {
                                    "Waiting time in days": "489",
                                    "Count": "25",
                                    "Appointment_Outcome": "No-Show"
                                },
                                {
                                    "Waiting time in days": "394",
                                    "Count": "25",
                                    "Appointment_Outcome": "No-Show"
                                },
                                {
                                    "Waiting time in days": "398",
                                    "Count": "24",
                                    "Appointment_Outcome": "No-Show"
                                },
                                {
                                    "Waiting time in days": "501",
                                    "Count": "24",
                                    "Appointment_Outcome": "No-Show"
                                },
                                {
                                    "Waiting time in days": "478",
                                    "Count": "24",
                                    "Appointment_Outcome": "No-Show"
                                },
                                {
                                    "Waiting time in days": "453",
                                    "Count": "24",
                                    "Appointment_Outcome": "No-Show"
                                },
                                {
                                    "Waiting time in days": "543",
                                    "Count": "24",
                                    "Appointment_Outcome": "No-Show"
                                },
                                {
                                    "Waiting time in days": "514",
                                    "Count": "24",
                                    "Appointment_Outcome": "No-Show"
                                },
                                {
                                    "Waiting time in days": "506",
                                    "Count": "24",
                                    "Appointment_Outcome": "No-Show"
                                },
                                {
                                    "Waiting time in days": "510",
                                    "Count": "24",
                                    "Appointment_Outcome": "No-Show"
                                },
                                {
                                    "Waiting time in days": "582",
                                    "Count": "24",
                                    "Appointment_Outcome": "No-Show"
                                },
                                {
                                    "Waiting time in days": "509",
                                    "Count": "23",
                                    "Appointment_Outcome": "No-Show"
                                },
                                {
                                    "Waiting time in days": "525",
                                    "Count": "23",
                                    "Appointment_Outcome": "No-Show"
                                },
                                {
                                    "Waiting time in days": "466",
                                    "Count": "23",
                                    "Appointment_Outcome": "No-Show"
                                },
                                {
                                    "Waiting time in days": "438",
                                    "Count": "23",
                                    "Appointment_Outcome": "No-Show"
                                },
                                {
                                    "Waiting time in days": "449",
                                    "Count": "23",
                                    "Appointment_Outcome": "No-Show"
                                },
                                {
                                    "Waiting time in days": "476",
                                    "Count": "23",
                                    "Appointment_Outcome": "No-Show"
                                },
                                {
                                    "Waiting time in days": "497",
                                    "Count": "23",
                                    "Appointment_Outcome": "No-Show"
                                },
                                {
                                    "Waiting time in days": "448",
                                    "Count": "22",
                                    "Appointment_Outcome": "No-Show"
                                },
                                {
                                    "Waiting time in days": "461",
                                    "Count": "22",
                                    "Appointment_Outcome": "No-Show"
                                },
                                {
                                    "Waiting time in days": "536",
                                    "Count": "22",
                                    "Appointment_Outcome": "No-Show"
                                },
                                {
                                    "Waiting time in days": "511",
                                    "Count": "22",
                                    "Appointment_Outcome": "No-Show"
                                },
                                {
                                    "Waiting time in days": "520",
                                    "Count": "22",
                                    "Appointment_Outcome": "No-Show"
                                },
                                {
                                    "Waiting time in days": "558",
                                    "Count": "22",
                                    "Appointment_Outcome": "No-Show"
                                },
                                {
                                    "Waiting time in days": "561",
                                    "Count": "21",
                                    "Appointment_Outcome": "No-Show"
                                },
                                {
                                    "Waiting time in days": "540",
                                    "Count": "21",
                                    "Appointment_Outcome": "No-Show"
                                },
                                {
                                    "Waiting time in days": "505",
                                    "Count": "21",
                                    "Appointment_Outcome": "No-Show"
                                },
                                {
                                    "Waiting time in days": "537",
                                    "Count": "21",
                                    "Appointment_Outcome": "No-Show"
                                },
                                {
                                    "Waiting time in days": "532",
                                    "Count": "21",
                                    "Appointment_Outcome": "No-Show"
                                },
                                {
                                    "Waiting time in days": "496",
                                    "Count": "21",
                                    "Appointment_Outcome": "No-Show"
                                },
                                {
                                    "Waiting time in days": "490",
                                    "Count": "21",
                                    "Appointment_Outcome": "No-Show"
                                },
                                {
                                    "Waiting time in days": "594",
                                    "Count": "21",
                                    "Appointment_Outcome": "No-Show"
                                },
                                {
                                    "Waiting time in days": "592",
                                    "Count": "20",
                                    "Appointment_Outcome": "No-Show"
                                },
                                {
                                    "Waiting time in days": "459",
                                    "Count": "20",
                                    "Appointment_Outcome": "No-Show"
                                },
                                {
                                    "Waiting time in days": "535",
                                    "Count": "20",
                                    "Appointment_Outcome": "No-Show"
                                },
                                {
                                    "Waiting time in days": "504",
                                    "Count": "20",
                                    "Appointment_Outcome": "No-Show"
                                },
                                {
                                    "Waiting time in days": "513",
                                    "Count": "20",
                                    "Appointment_Outcome": "No-Show"
                                },
                                {
                                    "Waiting time in days": "545",
                                    "Count": "20",
                                    "Appointment_Outcome": "No-Show"
                                },
                                {
                                    "Waiting time in days": "552",
                                    "Count": "20",
                                    "Appointment_Outcome": "No-Show"
                                },
                                {
                                    "Waiting time in days": "555",
                                    "Count": "20",
                                    "Appointment_Outcome": "No-Show"
                                },
                                {
                                    "Waiting time in days": "539",
                                    "Count": "19",
                                    "Appointment_Outcome": "No-Show"
                                },
                                {
                                    "Waiting time in days": "542",
                                    "Count": "19",
                                    "Appointment_Outcome": "No-Show"
                                },
                                {
                                    "Waiting time in days": "562",
                                    "Count": "19",
                                    "Appointment_Outcome": "No-Show"
                                },
                                {
                                    "Waiting time in days": "554",
                                    "Count": "19",
                                    "Appointment_Outcome": "No-Show"
                                },
                                {
                                    "Waiting time in days": "521",
                                    "Count": "19",
                                    "Appointment_Outcome": "No-Show"
                                },
                                {
                                    "Waiting time in days": "519",
                                    "Count": "19",
                                    "Appointment_Outcome": "No-Show"
                                },
                                {
                                    "Waiting time in days": "534",
                                    "Count": "19",
                                    "Appointment_Outcome": "No-Show"
                                },
                                {
                                    "Waiting time in days": "527",
                                    "Count": "19",
                                    "Appointment_Outcome": "No-Show"
                                },
                                {
                                    "Waiting time in days": "482",
                                    "Count": "19",
                                    "Appointment_Outcome": "No-Show"
                                },
                                {
                                    "Waiting time in days": "483",
                                    "Count": "18",
                                    "Appointment_Outcome": "No-Show"
                                },
                                {
                                    "Waiting time in days": "488",
                                    "Count": "18",
                                    "Appointment_Outcome": "No-Show"
                                },
                                {
                                    "Waiting time in days": "494",
                                    "Count": "18",
                                    "Appointment_Outcome": "No-Show"
                                },
                                {
                                    "Waiting time in days": "522",
                                    "Count": "18",
                                    "Appointment_Outcome": "No-Show"
                                },
                                {
                                    "Waiting time in days": "515",
                                    "Count": "18",
                                    "Appointment_Outcome": "No-Show"
                                },
                                {
                                    "Waiting time in days": "572",
                                    "Count": "18",
                                    "Appointment_Outcome": "No-Show"
                                },
                                {
                                    "Waiting time in days": "546",
                                    "Count": "18",
                                    "Appointment_Outcome": "No-Show"
                                },
                                {
                                    "Waiting time in days": "544",
                                    "Count": "18",
                                    "Appointment_Outcome": "No-Show"
                                },
                                {
                                    "Waiting time in days": "550",
                                    "Count": "18",
                                    "Appointment_Outcome": "No-Show"
                                },
                                {
                                    "Waiting time in days": "551",
                                    "Count": "18",
                                    "Appointment_Outcome": "No-Show"
                                },
                                {
                                    "Waiting time in days": "591",
                                    "Count": "18",
                                    "Appointment_Outcome": "No-Show"
                                },
                                {
                                    "Waiting time in days": "556",
                                    "Count": "17",
                                    "Appointment_Outcome": "No-Show"
                                },
                                {
                                    "Waiting time in days": "568",
                                    "Count": "17",
                                    "Appointment_Outcome": "No-Show"
                                },
                                {
                                    "Waiting time in days": "516",
                                    "Count": "17",
                                    "Appointment_Outcome": "No-Show"
                                },
                                {
                                    "Waiting time in days": "538",
                                    "Count": "17",
                                    "Appointment_Outcome": "No-Show"
                                },
                                {
                                    "Waiting time in days": "524",
                                    "Count": "16",
                                    "Appointment_Outcome": "No-Show"
                                },
                                {
                                    "Waiting time in days": "563",
                                    "Count": "16",
                                    "Appointment_Outcome": "No-Show"
                                },
                                {
                                    "Waiting time in days": "547",
                                    "Count": "16",
                                    "Appointment_Outcome": "No-Show"
                                },
                                {
                                    "Waiting time in days": "548",
                                    "Count": "16",
                                    "Appointment_Outcome": "No-Show"
                                },
                                {
                                    "Waiting time in days": "596",
                                    "Count": "16",
                                    "Appointment_Outcome": "No-Show"
                                },
                                {
                                    "Waiting time in days": "597",
                                    "Count": "15",
                                    "Appointment_Outcome": "No-Show"
                                },
                                {
                                    "Waiting time in days": "593",
                                    "Count": "15",
                                    "Appointment_Outcome": "No-Show"
                                },
                                {
                                    "Waiting time in days": "609",
                                    "Count": "15",
                                    "Appointment_Outcome": "No-Show"
                                },
                                {
                                    "Waiting time in days": "579",
                                    "Count": "15",
                                    "Appointment_Outcome": "No-Show"
                                },
                                {
                                    "Waiting time in days": "575",
                                    "Count": "15",
                                    "Appointment_Outcome": "No-Show"
                                },
                                {
                                    "Waiting time in days": "616",
                                    "Count": "15",
                                    "Appointment_Outcome": "No-Show"
                                },
                                {
                                    "Waiting time in days": "638",
                                    "Count": "15",
                                    "Appointment_Outcome": "No-Show"
                                },
                                {
                                    "Waiting time in days": "570",
                                    "Count": "15",
                                    "Appointment_Outcome": "No-Show"
                                },
                                {
                                    "Waiting time in days": "571",
                                    "Count": "15",
                                    "Appointment_Outcome": "No-Show"
                                },
                                {
                                    "Waiting time in days": "560",
                                    "Count": "15",
                                    "Appointment_Outcome": "No-Show"
                                },
                                {
                                    "Waiting time in days": "528",
                                    "Count": "15",
                                    "Appointment_Outcome": "No-Show"
                                },
                                {
                                    "Waiting time in days": "533",
                                    "Count": "15",
                                    "Appointment_Outcome": "No-Show"
                                },
                                {
                                    "Waiting time in days": "530",
                                    "Count": "15",
                                    "Appointment_Outcome": "No-Show"
                                },
                                {
                                    "Waiting time in days": "508",
                                    "Count": "15",
                                    "Appointment_Outcome": "No-Show"
                                },
                                {
                                    "Waiting time in days": "531",
                                    "Count": "14",
                                    "Appointment_Outcome": "No-Show"
                                },
                                {
                                    "Waiting time in days": "557",
                                    "Count": "14",
                                    "Appointment_Outcome": "No-Show"
                                },
                                {
                                    "Waiting time in days": "553",
                                    "Count": "14",
                                    "Appointment_Outcome": "No-Show"
                                },
                                {
                                    "Waiting time in days": "635",
                                    "Count": "14",
                                    "Appointment_Outcome": "No-Show"
                                },
                                {
                                    "Waiting time in days": "622",
                                    "Count": "14",
                                    "Appointment_Outcome": "No-Show"
                                },
                                {
                                    "Waiting time in days": "577",
                                    "Count": "14",
                                    "Appointment_Outcome": "No-Show"
                                },
                                {
                                    "Waiting time in days": "584",
                                    "Count": "14",
                                    "Appointment_Outcome": "No-Show"
                                },
                                {
                                    "Waiting time in days": "610",
                                    "Count": "14",
                                    "Appointment_Outcome": "No-Show"
                                },
                                {
                                    "Waiting time in days": "606",
                                    "Count": "14",
                                    "Appointment_Outcome": "No-Show"
                                },
                                {
                                    "Waiting time in days": "595",
                                    "Count": "14",
                                    "Appointment_Outcome": "No-Show"
                                },
                                {
                                    "Waiting time in days": "599",
                                    "Count": "14",
                                    "Appointment_Outcome": "No-Show"
                                },
                                {
                                    "Waiting time in days": "602",
                                    "Count": "13",
                                    "Appointment_Outcome": "No-Show"
                                },
                                {
                                    "Waiting time in days": "604",
                                    "Count": "13",
                                    "Appointment_Outcome": "No-Show"
                                },
                                {
                                    "Waiting time in days": "605",
                                    "Count": "13",
                                    "Appointment_Outcome": "No-Show"
                                },
                                {
                                    "Waiting time in days": "588",
                                    "Count": "13",
                                    "Appointment_Outcome": "No-Show"
                                },
                                {
                                    "Waiting time in days": "578",
                                    "Count": "13",
                                    "Appointment_Outcome": "No-Show"
                                },
                                {
                                    "Waiting time in days": "576",
                                    "Count": "13",
                                    "Appointment_Outcome": "No-Show"
                                },
                                {
                                    "Waiting time in days": "615",
                                    "Count": "13",
                                    "Appointment_Outcome": "No-Show"
                                },
                                {
                                    "Waiting time in days": "613",
                                    "Count": "13",
                                    "Appointment_Outcome": "No-Show"
                                },
                                {
                                    "Waiting time in days": "630",
                                    "Count": "13",
                                    "Appointment_Outcome": "No-Show"
                                },
                                {
                                    "Waiting time in days": "549",
                                    "Count": "13",
                                    "Appointment_Outcome": "No-Show"
                                },
                                {
                                    "Waiting time in days": "565",
                                    "Count": "13",
                                    "Appointment_Outcome": "No-Show"
                                },
                                {
                                    "Waiting time in days": "566",
                                    "Count": "13",
                                    "Appointment_Outcome": "No-Show"
                                },
                                {
                                    "Waiting time in days": "529",
                                    "Count": "13",
                                    "Appointment_Outcome": "No-Show"
                                },
                                {
                                    "Waiting time in days": "559",
                                    "Count": "12",
                                    "Appointment_Outcome": "No-Show"
                                },
                                {
                                    "Waiting time in days": "573",
                                    "Count": "12",
                                    "Appointment_Outcome": "No-Show"
                                },
                                {
                                    "Waiting time in days": "569",
                                    "Count": "12",
                                    "Appointment_Outcome": "No-Show"
                                },
                                {
                                    "Waiting time in days": "601",
                                    "Count": "12",
                                    "Appointment_Outcome": "No-Show"
                                },
                                {
                                    "Waiting time in days": "618",
                                    "Count": "12",
                                    "Appointment_Outcome": "No-Show"
                                },
                                {
                                    "Waiting time in days": "619",
                                    "Count": "12",
                                    "Appointment_Outcome": "No-Show"
                                },
                                {
                                    "Waiting time in days": "580",
                                    "Count": "12",
                                    "Appointment_Outcome": "No-Show"
                                },
                                {
                                    "Waiting time in days": "583",
                                    "Count": "12",
                                    "Appointment_Outcome": "No-Show"
                                },
                                {
                                    "Waiting time in days": "590",
                                    "Count": "12",
                                    "Appointment_Outcome": "No-Show"
                                },
                                {
                                    "Waiting time in days": "585",
                                    "Count": "12",
                                    "Appointment_Outcome": "No-Show"
                                },
                                {
                                    "Waiting time in days": "607",
                                    "Count": "12",
                                    "Appointment_Outcome": "No-Show"
                                },
                                {
                                    "Waiting time in days": "629",
                                    "Count": "12",
                                    "Appointment_Outcome": "No-Show"
                                },
                                {
                                    "Waiting time in days": "646",
                                    "Count": "11",
                                    "Appointment_Outcome": "No-Show"
                                },
                                {
                                    "Waiting time in days": "600",
                                    "Count": "11",
                                    "Appointment_Outcome": "No-Show"
                                },
                                {
                                    "Waiting time in days": "586",
                                    "Count": "11",
                                    "Appointment_Outcome": "No-Show"
                                },
                                {
                                    "Waiting time in days": "620",
                                    "Count": "11",
                                    "Appointment_Outcome": "No-Show"
                                },
                                {
                                    "Waiting time in days": "624",
                                    "Count": "11",
                                    "Appointment_Outcome": "No-Show"
                                },
                                {
                                    "Waiting time in days": "627",
                                    "Count": "11",
                                    "Appointment_Outcome": "No-Show"
                                },
                                {
                                    "Waiting time in days": "567",
                                    "Count": "11",
                                    "Appointment_Outcome": "No-Show"
                                },
                                {
                                    "Waiting time in days": "631",
                                    "Count": "10",
                                    "Appointment_Outcome": "No-Show"
                                },
                                {
                                    "Waiting time in days": "639",
                                    "Count": "10",
                                    "Appointment_Outcome": "No-Show"
                                },
                                {
                                    "Waiting time in days": "617",
                                    "Count": "10",
                                    "Appointment_Outcome": "No-Show"
                                },
                                {
                                    "Waiting time in days": "581",
                                    "Count": "10",
                                    "Appointment_Outcome": "No-Show"
                                },
                                {
                                    "Waiting time in days": "598",
                                    "Count": "10",
                                    "Appointment_Outcome": "No-Show"
                                },
                                {
                                    "Waiting time in days": "608",
                                    "Count": "10",
                                    "Appointment_Outcome": "No-Show"
                                },
                                {
                                    "Waiting time in days": "603",
                                    "Count": "10",
                                    "Appointment_Outcome": "No-Show"
                                },
                                {
                                    "Waiting time in days": "652",
                                    "Count": "10",
                                    "Appointment_Outcome": "No-Show"
                                },
                                {
                                    "Waiting time in days": "654",
                                    "Count": "10",
                                    "Appointment_Outcome": "No-Show"
                                },
                                {
                                    "Waiting time in days": "659",
                                    "Count": "9",
                                    "Appointment_Outcome": "No-Show"
                                },
                                {
                                    "Waiting time in days": "653",
                                    "Count": "9",
                                    "Appointment_Outcome": "No-Show"
                                },
                                {
                                    "Waiting time in days": "702",
                                    "Count": "9",
                                    "Appointment_Outcome": "No-Show"
                                },
                                {
                                    "Waiting time in days": "623",
                                    "Count": "9",
                                    "Appointment_Outcome": "No-Show"
                                },
                                {
                                    "Waiting time in days": "626",
                                    "Count": "9",
                                    "Appointment_Outcome": "No-Show"
                                },
                                {
                                    "Waiting time in days": "621",
                                    "Count": "9",
                                    "Appointment_Outcome": "No-Show"
                                },
                                {
                                    "Waiting time in days": "612",
                                    "Count": "9",
                                    "Appointment_Outcome": "No-Show"
                                },
                                {
                                    "Waiting time in days": "628",
                                    "Count": "9",
                                    "Appointment_Outcome": "No-Show"
                                },
                                {
                                    "Waiting time in days": "632",
                                    "Count": "8",
                                    "Appointment_Outcome": "No-Show"
                                },
                                {
                                    "Waiting time in days": "640",
                                    "Count": "8",
                                    "Appointment_Outcome": "No-Show"
                                },
                                {
                                    "Waiting time in days": "644",
                                    "Count": "8",
                                    "Appointment_Outcome": "No-Show"
                                },
                                {
                                    "Waiting time in days": "587",
                                    "Count": "8",
                                    "Appointment_Outcome": "No-Show"
                                },
                                {
                                    "Waiting time in days": "699",
                                    "Count": "8",
                                    "Appointment_Outcome": "No-Show"
                                },
                                {
                                    "Waiting time in days": "649",
                                    "Count": "8",
                                    "Appointment_Outcome": "No-Show"
                                },
                                {
                                    "Waiting time in days": "650",
                                    "Count": "8",
                                    "Appointment_Outcome": "No-Show"
                                },
                                {
                                    "Waiting time in days": "651",
                                    "Count": "8",
                                    "Appointment_Outcome": "No-Show"
                                },
                                {
                                    "Waiting time in days": "660",
                                    "Count": "8",
                                    "Appointment_Outcome": "No-Show"
                                },
                                {
                                    "Waiting time in days": "655",
                                    "Count": "8",
                                    "Appointment_Outcome": "No-Show"
                                },
                                {
                                    "Waiting time in days": "657",
                                    "Count": "8",
                                    "Appointment_Outcome": "No-Show"
                                },
                                {
                                    "Waiting time in days": "673",
                                    "Count": "8",
                                    "Appointment_Outcome": "No-Show"
                                },
                                {
                                    "Waiting time in days": "674",
                                    "Count": "7",
                                    "Appointment_Outcome": "No-Show"
                                },
                                {
                                    "Waiting time in days": "675",
                                    "Count": "7",
                                    "Appointment_Outcome": "No-Show"
                                },
                                {
                                    "Waiting time in days": "668",
                                    "Count": "7",
                                    "Appointment_Outcome": "No-Show"
                                },
                                {
                                    "Waiting time in days": "671",
                                    "Count": "7",
                                    "Appointment_Outcome": "No-Show"
                                },
                                {
                                    "Waiting time in days": "661",
                                    "Count": "7",
                                    "Appointment_Outcome": "No-Show"
                                },
                                {
                                    "Waiting time in days": "693",
                                    "Count": "7",
                                    "Appointment_Outcome": "No-Show"
                                },
                                {
                                    "Waiting time in days": "677",
                                    "Count": "7",
                                    "Appointment_Outcome": "No-Show"
                                },
                                {
                                    "Waiting time in days": "589",
                                    "Count": "7",
                                    "Appointment_Outcome": "No-Show"
                                },
                                {
                                    "Waiting time in days": "611",
                                    "Count": "7",
                                    "Appointment_Outcome": "No-Show"
                                },
                                {
                                    "Waiting time in days": "642",
                                    "Count": "7",
                                    "Appointment_Outcome": "No-Show"
                                },
                                {
                                    "Waiting time in days": "633",
                                    "Count": "7",
                                    "Appointment_Outcome": "No-Show"
                                },
                                {
                                    "Waiting time in days": "634",
                                    "Count": "6",
                                    "Appointment_Outcome": "No-Show"
                                },
                                {
                                    "Waiting time in days": "636",
                                    "Count": "6",
                                    "Appointment_Outcome": "No-Show"
                                },
                                {
                                    "Waiting time in days": "625",
                                    "Count": "6",
                                    "Appointment_Outcome": "No-Show"
                                },
                                {
                                    "Waiting time in days": "692",
                                    "Count": "6",
                                    "Appointment_Outcome": "No-Show"
                                },
                                {
                                    "Waiting time in days": "658",
                                    "Count": "6",
                                    "Appointment_Outcome": "No-Show"
                                },
                                {
                                    "Waiting time in days": "648",
                                    "Count": "6",
                                    "Appointment_Outcome": "No-Show"
                                },
                                {
                                    "Waiting time in days": "669",
                                    "Count": "6",
                                    "Appointment_Outcome": "No-Show"
                                },
                                {
                                    "Waiting time in days": "663",
                                    "Count": "6",
                                    "Appointment_Outcome": "No-Show"
                                },
                                {
                                    "Waiting time in days": "666",
                                    "Count": "6",
                                    "Appointment_Outcome": "No-Show"
                                },
                                {
                                    "Waiting time in days": "574",
                                    "Count": "6",
                                    "Appointment_Outcome": "No-Show"
                                },
                                {
                                    "Waiting time in days": "667",
                                    "Count": "5",
                                    "Appointment_Outcome": "No-Show"
                                },
                                {
                                    "Waiting time in days": "664",
                                    "Count": "5",
                                    "Appointment_Outcome": "No-Show"
                                },
                                {
                                    "Waiting time in days": "665",
                                    "Count": "5",
                                    "Appointment_Outcome": "No-Show"
                                },
                                {
                                    "Waiting time in days": "672",
                                    "Count": "5",
                                    "Appointment_Outcome": "No-Show"
                                },
                                {
                                    "Waiting time in days": "676",
                                    "Count": "5",
                                    "Appointment_Outcome": "No-Show"
                                },
                                {
                                    "Waiting time in days": "680",
                                    "Count": "5",
                                    "Appointment_Outcome": "No-Show"
                                },
                                {
                                    "Waiting time in days": "681",
                                    "Count": "5",
                                    "Appointment_Outcome": "No-Show"
                                },
                                {
                                    "Waiting time in days": "647",
                                    "Count": "5",
                                    "Appointment_Outcome": "No-Show"
                                },
                                {
                                    "Waiting time in days": "656",
                                    "Count": "5",
                                    "Appointment_Outcome": "No-Show"
                                },
                                {
                                    "Waiting time in days": "662",
                                    "Count": "5",
                                    "Appointment_Outcome": "No-Show"
                                },
                                {
                                    "Waiting time in days": "678",
                                    "Count": "5",
                                    "Appointment_Outcome": "No-Show"
                                },
                                {
                                    "Waiting time in days": "686",
                                    "Count": "5",
                                    "Appointment_Outcome": "No-Show"
                                },
                                {
                                    "Waiting time in days": "679",
                                    "Count": "4",
                                    "Appointment_Outcome": "No-Show"
                                },
                                {
                                    "Waiting time in days": "684",
                                    "Count": "4",
                                    "Appointment_Outcome": "No-Show"
                                },
                                {
                                    "Waiting time in days": "685",
                                    "Count": "4",
                                    "Appointment_Outcome": "No-Show"
                                },
                                {
                                    "Waiting time in days": "696",
                                    "Count": "4",
                                    "Appointment_Outcome": "No-Show"
                                },
                                {
                                    "Waiting time in days": "704",
                                    "Count": "4",
                                    "Appointment_Outcome": "No-Show"
                                },
                                {
                                    "Waiting time in days": "637",
                                    "Count": "4",
                                    "Appointment_Outcome": "No-Show"
                                },
                                {
                                    "Waiting time in days": "641",
                                    "Count": "4",
                                    "Appointment_Outcome": "No-Show"
                                },
                                {
                                    "Waiting time in days": "645",
                                    "Count": "3",
                                    "Appointment_Outcome": "No-Show"
                                },
                                {
                                    "Waiting time in days": "614",
                                    "Count": "3",
                                    "Appointment_Outcome": "No-Show"
                                },
                                {
                                    "Waiting time in days": "711",
                                    "Count": "3",
                                    "Appointment_Outcome": "No-Show"
                                },
                                {
                                    "Waiting time in days": "712",
                                    "Count": "3",
                                    "Appointment_Outcome": "No-Show"
                                },
                                {
                                    "Waiting time in days": "716",
                                    "Count": "3",
                                    "Appointment_Outcome": "No-Show"
                                },
                                {
                                    "Waiting time in days": "717",
                                    "Count": "3",
                                    "Appointment_Outcome": "No-Show"
                                },
                                {
                                    "Waiting time in days": "697",
                                    "Count": "3",
                                    "Appointment_Outcome": "No-Show"
                                },
                                {
                                    "Waiting time in days": "694",
                                    "Count": "3",
                                    "Appointment_Outcome": "No-Show"
                                },
                                {
                                    "Waiting time in days": "701",
                                    "Count": "3",
                                    "Appointment_Outcome": "No-Show"
                                },
                                {
                                    "Waiting time in days": "687",
                                    "Count": "3",
                                    "Appointment_Outcome": "No-Show"
                                },
                                {
                                    "Waiting time in days": "690",
                                    "Count": "3",
                                    "Appointment_Outcome": "No-Show"
                                },
                                {
                                    "Waiting time in days": "691",
                                    "Count": "3",
                                    "Appointment_Outcome": "No-Show"
                                },
                                {
                                    "Waiting time in days": "682",
                                    "Count": "3",
                                    "Appointment_Outcome": "No-Show"
                                },
                                {
                                    "Waiting time in days": "683",
                                    "Count": "3",
                                    "Appointment_Outcome": "No-Show"
                                },
                                {
                                    "Waiting time in days": "670",
                                    "Count": "2",
                                    "Appointment_Outcome": "No-Show"
                                },
                                {
                                    "Waiting time in days": "688",
                                    "Count": "2",
                                    "Appointment_Outcome": "No-Show"
                                },
                                {
                                    "Waiting time in days": "700",
                                    "Count": "2",
                                    "Appointment_Outcome": "No-Show"
                                },
                                {
                                    "Waiting time in days": "695",
                                    "Count": "2",
                                    "Appointment_Outcome": "No-Show"
                                },
                                {
                                    "Waiting time in days": "718",
                                    "Count": "2",
                                    "Appointment_Outcome": "No-Show"
                                },
                                {
                                    "Waiting time in days": "715",
                                    "Count": "2",
                                    "Appointment_Outcome": "No-Show"
                                },
                                {
                                    "Waiting time in days": "707",
                                    "Count": "2",
                                    "Appointment_Outcome": "No-Show"
                                },
                                {
                                    "Waiting time in days": "709",
                                    "Count": "2",
                                    "Appointment_Outcome": "No-Show"
                                },
                                {
                                    "Waiting time in days": "643",
                                    "Count": "2",
                                    "Appointment_Outcome": "No-Show"
                                },
                                {
                                    "Waiting time in days": "710",
                                    "Count": "1",
                                    "Appointment_Outcome": "No-Show"
                                },
                                {
                                    "Waiting time in days": "713",
                                    "Count": "1",
                                    "Appointment_Outcome": "No-Show"
                                },
                                {
                                    "Waiting time in days": "705",
                                    "Count": "1",
                                    "Appointment_Outcome": "No-Show"
                                },
                                {
                                    "Waiting time in days": "706",
                                    "Count": "1",
                                    "Appointment_Outcome": "No-Show"
                                },
                                {
                                    "Waiting time in days": "703",
                                    "Count": "1",
                                    "Appointment_Outcome": "No-Show"
                                },
                                {
                                    "Waiting time in days": "719",
                                    "Count": "1",
                                    "Appointment_Outcome": "No-Show"
                                },
                                {
                                    "Waiting time in days": "720",
                                    "Count": "1",
                                    "Appointment_Outcome": "No-Show"
                                },
                                {
                                    "Waiting time in days": "722",
                                    "Count": "1",
                                    "Appointment_Outcome": "No-Show"
                                },
                                {
                                    "Waiting time in days": "725",
                                    "Count": "1",
                                    "Appointment_Outcome": "No-Show"
                                }
                            ]
                        },
                        "text/html": [
                            "<table>",
                            "<tr><th>Waiting time in days</th><th>Count</th><th>Appointment_Outcome</th></tr>",
                            "<tr><td>20</td><td>61</td><td>No-Show</td></tr>",
                            "<tr><td>106</td><td>60</td><td>No-Show</td></tr>",
                            "<tr><td>272</td><td>60</td><td>No-Show</td></tr>",
                            "<tr><td>273</td><td>59</td><td>No-Show</td></tr>",
                            "<tr><td>79</td><td>58</td><td>No-Show</td></tr>",
                            "<tr><td>123</td><td>58</td><td>No-Show</td></tr>",
                            "<tr><td>304</td><td>57</td><td>No-Show</td></tr>",
                            "<tr><td>29</td><td>56</td><td>No-Show</td></tr>",
                            "<tr><td>31</td><td>56</td><td>No-Show</td></tr>",
                            "<tr><td>230</td><td>56</td><td>No-Show</td></tr>",
                            "<tr><td>217</td><td>56</td><td>No-Show</td></tr>",
                            "<tr><td>3</td><td>55</td><td>No-Show</td></tr>",
                            "<tr><td>336</td><td>55</td><td>No-Show</td></tr>",
                            "<tr><td>367</td><td>55</td><td>No-Show</td></tr>",
                            "<tr><td>360</td><td>54</td><td>No-Show</td></tr>",
                            "<tr><td>332</td><td>54</td><td>No-Show</td></tr>",
                            "<tr><td>307</td><td>54</td><td>No-Show</td></tr>",
                            "<tr><td>310</td><td>54</td><td>No-Show</td></tr>",
                            "<tr><td>53</td><td>54</td><td>No-Show</td></tr>",
                            "<tr><td>58</td><td>54</td><td>No-Show</td></tr>",
                            "<tr><td>59</td><td>54</td><td>No-Show</td></tr>",
                            "<tr><td>202</td><td>54</td><td>No-Show</td></tr>",
                            "<tr><td>187</td><td>54</td><td>No-Show</td></tr>",
                            "<tr><td>189</td><td>53</td><td>No-Show</td></tr>",
                            "<tr><td>208</td><td>53</td><td>No-Show</td></tr>",
                            "<tr><td>211</td><td>53</td><td>No-Show</td></tr>",
                            "<tr><td>234</td><td>53</td><td>No-Show</td></tr>",
                            "<tr><td>224</td><td>53</td><td>No-Show</td></tr>",
                            "<tr><td>297</td><td>53</td><td>No-Show</td></tr>",
                            "<tr><td>298</td><td>52</td><td>No-Show</td></tr>",
                            "<tr><td>358</td><td>52</td><td>No-Show</td></tr>",
                            "<tr><td>220</td><td>52</td><td>No-Show</td></tr>",
                            "<tr><td>228</td><td>52</td><td>No-Show</td></tr>",
                            "<tr><td>281</td><td>52</td><td>No-Show</td></tr>",
                            "<tr><td>195</td><td>52</td><td>No-Show</td></tr>",
                            "<tr><td>82</td><td>52</td><td>No-Show</td></tr>",
                            "<tr><td>85</td><td>51</td><td>No-Show</td></tr>",
                            "<tr><td>99</td><td>51</td><td>No-Show</td></tr>",
                            "<tr><td>111</td><td>51</td><td>No-Show</td></tr>",
                            "<tr><td>130</td><td>51</td><td>No-Show</td></tr>",
                            "<tr><td>142</td><td>51</td><td>No-Show</td></tr>",
                            "<tr><td>32</td><td>51</td><td>No-Show</td></tr>",
                            "<tr><td>215</td><td>51</td><td>No-Show</td></tr>",
                            "<tr><td>216</td><td>51</td><td>No-Show</td></tr>",
                            "<tr><td>159</td><td>51</td><td>No-Show</td></tr>",
                            "<tr><td>283</td><td>51</td><td>No-Show</td></tr>",
                            "<tr><td>266</td><td>51</td><td>No-Show</td></tr>",
                            "<tr><td>221</td><td>51</td><td>No-Show</td></tr>",
                            "<tr><td>337</td><td>51</td><td>No-Show</td></tr>",
                            "<tr><td>293</td><td>50</td><td>No-Show</td></tr>",
                            "<tr><td>176</td><td>50</td><td>No-Show</td></tr>",
                            "<tr><td>212</td><td>50</td><td>No-Show</td></tr>",
                            "<tr><td>205</td><td>50</td><td>No-Show</td></tr>",
                            "<tr><td>192</td><td>50</td><td>No-Show</td></tr>",
                            "<tr><td>4</td><td>50</td><td>No-Show</td></tr>",
                            "<tr><td>55</td><td>50</td><td>No-Show</td></tr>",
                            "<tr><td>101</td><td>50</td><td>No-Show</td></tr>",
                            "<tr><td>97</td><td>50</td><td>No-Show</td></tr>",
                            "<tr><td>74</td><td>50</td><td>No-Show</td></tr>",
                            "<tr><td>91</td><td>49</td><td>No-Show</td></tr>",
                            "<tr><td>112</td><td>49</td><td>No-Show</td></tr>",
                            "<tr><td>108</td><td>49</td><td>No-Show</td></tr>",
                            "<tr><td>121</td><td>49</td><td>No-Show</td></tr>",
                            "<tr><td>47</td><td>49</td><td>No-Show</td></tr>",
                            "<tr><td>151</td><td>49</td><td>No-Show</td></tr>",
                            "<tr><td>238</td><td>49</td><td>No-Show</td></tr>",
                            "<tr><td>257</td><td>49</td><td>No-Show</td></tr>",
                            "<tr><td>296</td><td>49</td><td>No-Show</td></tr>",
                            "<tr><td>318</td><td>49</td><td>No-Show</td></tr>",
                            "<tr><td>325</td><td>49</td><td>No-Show</td></tr>",
                            "<tr><td>338</td><td>49</td><td>No-Show</td></tr>",
                            "<tr><td>363</td><td>49</td><td>No-Show</td></tr>",
                            "<tr><td>402</td><td>49</td><td>No-Show</td></tr>",
                            "<tr><td>344</td><td>48</td><td>No-Show</td></tr>",
                            "<tr><td>292</td><td>48</td><td>No-Show</td></tr>",
                            "<tr><td>290</td><td>48</td><td>No-Show</td></tr>",
                            "<tr><td>256</td><td>48</td><td>No-Show</td></tr>",
                            "<tr><td>267</td><td>48</td><td>No-Show</td></tr>",
                            "<tr><td>279</td><td>48</td><td>No-Show</td></tr>",
                            "<tr><td>236</td><td>48</td><td>No-Show</td></tr>",
                            "<tr><td>227</td><td>48</td><td>No-Show</td></tr>",
                            "<tr><td>231</td><td>48</td><td>No-Show</td></tr>",
                            "<tr><td>178</td><td>48</td><td>No-Show</td></tr>",
                            "<tr><td>180</td><td>48</td><td>No-Show</td></tr>",
                            "<tr><td>40</td><td>48</td><td>No-Show</td></tr>",
                            "<tr><td>126</td><td>48</td><td>No-Show</td></tr>",
                            "<tr><td>84</td><td>48</td><td>No-Show</td></tr>",
                            "<tr><td>120</td><td>48</td><td>No-Show</td></tr>",
                            "<tr><td>93</td><td>48</td><td>No-Show</td></tr>",
                            "<tr><td>92</td><td>47</td><td>No-Show</td></tr>",
                            "<tr><td>87</td><td>47</td><td>No-Show</td></tr>",
                            "<tr><td>110</td><td>47</td><td>No-Show</td></tr>",
                            "<tr><td>44</td><td>47</td><td>No-Show</td></tr>",
                            "<tr><td>18</td><td>47</td><td>No-Show</td></tr>",
                            "<tr><td>34</td><td>47</td><td>No-Show</td></tr>",
                            "<tr><td>36</td><td>47</td><td>No-Show</td></tr>",
                            "<tr><td>147</td><td>47</td><td>No-Show</td></tr>",
                            "<tr><td>191</td><td>47</td><td>No-Show</td></tr>",
                            "<tr><td>207</td><td>47</td><td>No-Show</td></tr>",
                            "<tr><td>299</td><td>47</td><td>No-Show</td></tr>",
                            "<tr><td>300</td><td>47</td><td>No-Show</td></tr>",
                            "<tr><td>335</td><td>47</td><td>No-Show</td></tr>",
                            "<tr><td>317</td><td>47</td><td>No-Show</td></tr>",
                            "<tr><td>366</td><td>47</td><td>No-Show</td></tr>",
                            "<tr><td>371</td><td>47</td><td>No-Show</td></tr>",
                            "<tr><td>405</td><td>46</td><td>No-Show</td></tr>",
                            "<tr><td>329</td><td>46</td><td>No-Show</td></tr>",
                            "<tr><td>334</td><td>46</td><td>No-Show</td></tr>",
                            "<tr><td>294</td><td>46</td><td>No-Show</td></tr>",
                            "<tr><td>199</td><td>46</td><td>No-Show</td></tr>",
                            "<tr><td>209</td><td>46</td><td>No-Show</td></tr>",
                            "<tr><td>185</td><td>46</td><td>No-Show</td></tr>",
                            "<tr><td>222</td><td>46</td><td>No-Show</td></tr>",
                            "<tr><td>246</td><td>46</td><td>No-Show</td></tr>",
                            "<tr><td>237</td><td>46</td><td>No-Show</td></tr>",
                            "<tr><td>10</td><td>46</td><td>No-Show</td></tr>",
                            "<tr><td>12</td><td>46</td><td>No-Show</td></tr>",
                            "<tr><td>38</td><td>46</td><td>No-Show</td></tr>",
                            "<tr><td>39</td><td>46</td><td>No-Show</td></tr>",
                            "<tr><td>134</td><td>46</td><td>No-Show</td></tr>",
                            "<tr><td>139</td><td>46</td><td>No-Show</td></tr>",
                            "<tr><td>137</td><td>45</td><td>No-Show</td></tr>",
                            "<tr><td>78</td><td>45</td><td>No-Show</td></tr>",
                            "<tr><td>107</td><td>45</td><td>No-Show</td></tr>",
                            "<tr><td>68</td><td>45</td><td>No-Show</td></tr>",
                            "<tr><td>30</td><td>45</td><td>No-Show</td></tr>",
                            "<tr><td>24</td><td>45</td><td>No-Show</td></tr>",
                            "<tr><td>251</td><td>45</td><td>No-Show</td></tr>",
                            "<tr><td>287</td><td>45</td><td>No-Show</td></tr>",
                            "<tr><td>258</td><td>45</td><td>No-Show</td></tr>",
                            "<tr><td>200</td><td>45</td><td>No-Show</td></tr>",
                            "<tr><td>203</td><td>45</td><td>No-Show</td></tr>",
                            "<tr><td>323</td><td>45</td><td>No-Show</td></tr>",
                            "<tr><td>348</td><td>45</td><td>No-Show</td></tr>",
                            "<tr><td>349</td><td>45</td><td>No-Show</td></tr>",
                            "<tr><td>393</td><td>45</td><td>No-Show</td></tr>",
                            "<tr><td>364</td><td>45</td><td>No-Show</td></tr>",
                            "<tr><td>361</td><td>44</td><td>No-Show</td></tr>",
                            "<tr><td>379</td><td>44</td><td>No-Show</td></tr>",
                            "<tr><td>410</td><td>44</td><td>No-Show</td></tr>",
                            "<tr><td>352</td><td>44</td><td>No-Show</td></tr>",
                            "<tr><td>302</td><td>44</td><td>No-Show</td></tr>",
                            "<tr><td>313</td><td>44</td><td>No-Show</td></tr>",
                            "<tr><td>155</td><td>44</td><td>No-Show</td></tr>",
                            "<tr><td>288</td><td>44</td><td>No-Show</td></tr>",
                            "<tr><td>262</td><td>44</td><td>No-Show</td></tr>",
                            "<tr><td>276</td><td>44</td><td>No-Show</td></tr>",
                            "<tr><td>226</td><td>44</td><td>No-Show</td></tr>",
                            "<tr><td>214</td><td>43</td><td>No-Show</td></tr>",
                            "<tr><td>249</td><td>43</td><td>No-Show</td></tr>",
                            "<tr><td>250</td><td>43</td><td>No-Show</td></tr>",
                            "<tr><td>239</td><td>43</td><td>No-Show</td></tr>",
                            "<tr><td>259</td><td>43</td><td>No-Show</td></tr>",
                            "<tr><td>253</td><td>43</td><td>No-Show</td></tr>",
                            "<tr><td>158</td><td>43</td><td>No-Show</td></tr>",
                            "<tr><td>174</td><td>43</td><td>No-Show</td></tr>",
                            "<tr><td>201</td><td>43</td><td>No-Show</td></tr>",
                            "<tr><td>197</td><td>43</td><td>No-Show</td></tr>",
                            "<tr><td>22</td><td>43</td><td>No-Show</td></tr>",
                            "<tr><td>23</td><td>43</td><td>No-Show</td></tr>",
                            "<tr><td>65</td><td>43</td><td>No-Show</td></tr>",
                            "<tr><td>98</td><td>43</td><td>No-Show</td></tr>",
                            "<tr><td>138</td><td>43</td><td>No-Show</td></tr>",
                            "<tr><td>129</td><td>43</td><td>No-Show</td></tr>",
                            "<tr><td>109</td><td>43</td><td>No-Show</td></tr>",
                            "<tr><td>122</td><td>43</td><td>No-Show</td></tr>",
                            "<tr><td>306</td><td>43</td><td>No-Show</td></tr>",
                            "<tr><td>321</td><td>43</td><td>No-Show</td></tr>",
                            "<tr><td>291</td><td>43</td><td>No-Show</td></tr>",
                            "<tr><td>343</td><td>43</td><td>No-Show</td></tr>",
                            "<tr><td>412</td><td>43</td><td>No-Show</td></tr>",
                            "<tr><td>380</td><td>43</td><td>No-Show</td></tr>",
                            "<tr><td>376</td><td>43</td><td>No-Show</td></tr>",
                            "<tr><td>395</td><td>43</td><td>No-Show</td></tr>",
                            "<tr><td>389</td><td>42</td><td>No-Show</td></tr>",
                            "<tr><td>409</td><td>42</td><td>No-Show</td></tr>",
                            "<tr><td>420</td><td>42</td><td>No-Show</td></tr>",
                            "<tr><td>342</td><td>42</td><td>No-Show</td></tr>",
                            "<tr><td>350</td><td>42</td><td>No-Show</td></tr>",
                            "<tr><td>351</td><td>42</td><td>No-Show</td></tr>",
                            "<tr><td>355</td><td>42</td><td>No-Show</td></tr>",
                            "<tr><td>357</td><td>42</td><td>No-Show</td></tr>",
                            "<tr><td>331</td><td>42</td><td>No-Show</td></tr>",
                            "<tr><td>340</td><td>42</td><td>No-Show</td></tr>",
                            "<tr><td>301</td><td>42</td><td>No-Show</td></tr>",
                            "<tr><td>303</td><td>42</td><td>No-Show</td></tr>",
                            "<tr><td>311</td><td>42</td><td>No-Show</td></tr>",
                            "<tr><td>315</td><td>42</td><td>No-Show</td></tr>",
                            "<tr><td>316</td><td>42</td><td>No-Show</td></tr>",
                            "<tr><td>141</td><td>42</td><td>No-Show</td></tr>",
                            "<tr><td>86</td><td>42</td><td>No-Show</td></tr>",
                            "<tr><td>83</td><td>42</td><td>No-Show</td></tr>",
                            "<tr><td>60</td><td>42</td><td>No-Show</td></tr>",
                            "<tr><td>21</td><td>42</td><td>No-Show</td></tr>",
                            "<tr><td>218</td><td>42</td><td>No-Show</td></tr>",
                            "<tr><td>177</td><td>42</td><td>No-Show</td></tr>",
                            "<tr><td>166</td><td>42</td><td>No-Show</td></tr>",
                            "<tr><td>161</td><td>42</td><td>No-Show</td></tr>",
                            "<tr><td>144</td><td>42</td><td>No-Show</td></tr>",
                            "<tr><td>274</td><td>42</td><td>No-Show</td></tr>",
                            "<tr><td>282</td><td>42</td><td>No-Show</td></tr>",
                            "<tr><td>284</td><td>42</td><td>No-Show</td></tr>",
                            "<tr><td>241</td><td>42</td><td>No-Show</td></tr>",
                            "<tr><td>243</td><td>42</td><td>No-Show</td></tr>",
                            "<tr><td>252</td><td>42</td><td>No-Show</td></tr>",
                            "<tr><td>225</td><td>42</td><td>No-Show</td></tr>",
                            "<tr><td>242</td><td>41</td><td>No-Show</td></tr>",
                            "<tr><td>265</td><td>41</td><td>No-Show</td></tr>",
                            "<tr><td>278</td><td>41</td><td>No-Show</td></tr>",
                            "<tr><td>162</td><td>41</td><td>No-Show</td></tr>",
                            "<tr><td>171</td><td>41</td><td>No-Show</td></tr>",
                            "<tr><td>210</td><td>41</td><td>No-Show</td></tr>",
                            "<tr><td>204</td><td>41</td><td>No-Show</td></tr>",
                            "<tr><td>183</td><td>41</td><td>No-Show</td></tr>",
                            "<tr><td>188</td><td>41</td><td>No-Show</td></tr>",
                            "<tr><td>7</td><td>41</td><td>No-Show</td></tr>",
                            "<tr><td>63</td><td>41</td><td>No-Show</td></tr>",
                            "<tr><td>67</td><td>41</td><td>No-Show</td></tr>",
                            "<tr><td>49</td><td>41</td><td>No-Show</td></tr>",
                            "<tr><td>46</td><td>41</td><td>No-Show</td></tr>",
                            "<tr><td>52</td><td>41</td><td>No-Show</td></tr>",
                            "<tr><td>76</td><td>41</td><td>No-Show</td></tr>",
                            "<tr><td>94</td><td>41</td><td>No-Show</td></tr>",
                            "<tr><td>95</td><td>41</td><td>No-Show</td></tr>",
                            "<tr><td>143</td><td>41</td><td>No-Show</td></tr>",
                            "<tr><td>140</td><td>41</td><td>No-Show</td></tr>",
                            "<tr><td>117</td><td>41</td><td>No-Show</td></tr>",
                            "<tr><td>124</td><td>41</td><td>No-Show</td></tr>",
                            "<tr><td>125</td><td>41</td><td>No-Show</td></tr>",
                            "<tr><td>114</td><td>41</td><td>No-Show</td></tr>",
                            "<tr><td>314</td><td>41</td><td>No-Show</td></tr>",
                            "<tr><td>309</td><td>41</td><td>No-Show</td></tr>",
                            "<tr><td>326</td><td>41</td><td>No-Show</td></tr>",
                            "<tr><td>327</td><td>41</td><td>No-Show</td></tr>",
                            "<tr><td>359</td><td>41</td><td>No-Show</td></tr>",
                            "<tr><td>353</td><td>41</td><td>No-Show</td></tr>",
                            "<tr><td>345</td><td>41</td><td>No-Show</td></tr>",
                            "<tr><td>417</td><td>41</td><td>No-Show</td></tr>",
                            "<tr><td>433</td><td>41</td><td>No-Show</td></tr>",
                            "<tr><td>446</td><td>40</td><td>No-Show</td></tr>",
                            "<tr><td>414</td><td>40</td><td>No-Show</td></tr>",
                            "<tr><td>415</td><td>40</td><td>No-Show</td></tr>",
                            "<tr><td>408</td><td>40</td><td>No-Show</td></tr>",
                            "<tr><td>400</td><td>40</td><td>No-Show</td></tr>",
                            "<tr><td>396</td><td>40</td><td>No-Show</td></tr>",
                            "<tr><td>381</td><td>40</td><td>No-Show</td></tr>",
                            "<tr><td>362</td><td>40</td><td>No-Show</td></tr>",
                            "<tr><td>322</td><td>40</td><td>No-Show</td></tr>",
                            "<tr><td>96</td><td>40</td><td>No-Show</td></tr>",
                            "<tr><td>104</td><td>40</td><td>No-Show</td></tr>",
                            "<tr><td>80</td><td>40</td><td>No-Show</td></tr>",
                            "<tr><td>81</td><td>40</td><td>No-Show</td></tr>",
                            "<tr><td>64</td><td>40</td><td>No-Show</td></tr>",
                            "<tr><td>8</td><td>40</td><td>No-Show</td></tr>",
                            "<tr><td>19</td><td>40</td><td>No-Show</td></tr>",
                            "<tr><td>16</td><td>40</td><td>No-Show</td></tr>",
                            "<tr><td>27</td><td>40</td><td>No-Show</td></tr>",
                            "<tr><td>35</td><td>40</td><td>No-Show</td></tr>",
                            "<tr><td>182</td><td>40</td><td>No-Show</td></tr>",
                            "<tr><td>219</td><td>40</td><td>No-Show</td></tr>",
                            "<tr><td>154</td><td>40</td><td>No-Show</td></tr>",
                            "<tr><td>280</td><td>40</td><td>No-Show</td></tr>",
                            "<tr><td>285</td><td>40</td><td>No-Show</td></tr>",
                            "<tr><td>275</td><td>40</td><td>No-Show</td></tr>",
                            "<tr><td>268</td><td>40</td><td>No-Show</td></tr>",
                            "<tr><td>223</td><td>40</td><td>No-Show</td></tr>",
                            "<tr><td>229</td><td>39</td><td>No-Show</td></tr>",
                            "<tr><td>269</td><td>39</td><td>No-Show</td></tr>",
                            "<tr><td>260</td><td>39</td><td>No-Show</td></tr>",
                            "<tr><td>160</td><td>39</td><td>No-Show</td></tr>",
                            "<tr><td>150</td><td>39</td><td>No-Show</td></tr>",
                            "<tr><td>172</td><td>39</td><td>No-Show</td></tr>",
                            "<tr><td>165</td><td>39</td><td>No-Show</td></tr>",
                            "<tr><td>175</td><td>39</td><td>No-Show</td></tr>",
                            "<tr><td>194</td><td>39</td><td>No-Show</td></tr>",
                            "<tr><td>206</td><td>39</td><td>No-Show</td></tr>",
                            "<tr><td>186</td><td>39</td><td>No-Show</td></tr>",
                            "<tr><td>33</td><td>39</td><td>No-Show</td></tr>",
                            "<tr><td>11</td><td>39</td><td>No-Show</td></tr>",
                            "<tr><td>1</td><td>39</td><td>No-Show</td></tr>",
                            "<tr><td>2</td><td>39</td><td>No-Show</td></tr>",
                            "<tr><td>69</td><td>39</td><td>No-Show</td></tr>",
                            "<tr><td>115</td><td>39</td><td>No-Show</td></tr>",
                            "<tr><td>127</td><td>39</td><td>No-Show</td></tr>",
                            "<tr><td>136</td><td>39</td><td>No-Show</td></tr>",
                            "<tr><td>132</td><td>39</td><td>No-Show</td></tr>",
                            "<tr><td>328</td><td>39</td><td>No-Show</td></tr>",
                            "<tr><td>312</td><td>39</td><td>No-Show</td></tr>",
                            "<tr><td>305</td><td>39</td><td>No-Show</td></tr>",
                            "<tr><td>397</td><td>39</td><td>No-Show</td></tr>",
                            "<tr><td>407</td><td>38</td><td>No-Show</td></tr>",
                            "<tr><td>432</td><td>38</td><td>No-Show</td></tr>",
                            "<tr><td>308</td><td>38</td><td>No-Show</td></tr>",
                            "<tr><td>295</td><td>38</td><td>No-Show</td></tr>",
                            "<tr><td>354</td><td>38</td><td>No-Show</td></tr>",
                            "<tr><td>347</td><td>38</td><td>No-Show</td></tr>",
                            "<tr><td>435</td><td>38</td><td>No-Show</td></tr>",
                            "<tr><td>73</td><td>38</td><td>No-Show</td></tr>",
                            "<tr><td>105</td><td>38</td><td>No-Show</td></tr>",
                            "<tr><td>71</td><td>38</td><td>No-Show</td></tr>",
                            "<tr><td>50</td><td>38</td><td>No-Show</td></tr>",
                            "<tr><td>15</td><td>38</td><td>No-Show</td></tr>",
                            "<tr><td>17</td><td>38</td><td>No-Show</td></tr>",
                            "<tr><td>28</td><td>38</td><td>No-Show</td></tr>",
                            "<tr><td>184</td><td>38</td><td>No-Show</td></tr>",
                            "<tr><td>167</td><td>38</td><td>No-Show</td></tr>",
                            "<tr><td>152</td><td>38</td><td>No-Show</td></tr>",
                            "<tr><td>153</td><td>38</td><td>No-Show</td></tr>",
                            "<tr><td>145</td><td>38</td><td>No-Show</td></tr>",
                            "<tr><td>146</td><td>38</td><td>No-Show</td></tr>",
                            "<tr><td>277</td><td>38</td><td>No-Show</td></tr>",
                            "<tr><td>247</td><td>38</td><td>No-Show</td></tr>",
                            "<tr><td>245</td><td>38</td><td>No-Show</td></tr>",
                            "<tr><td>235</td><td>37</td><td>No-Show</td></tr>",
                            "<tr><td>255</td><td>37</td><td>No-Show</td></tr>",
                            "<tr><td>270</td><td>37</td><td>No-Show</td></tr>",
                            "<tr><td>168</td><td>37</td><td>No-Show</td></tr>",
                            "<tr><td>169</td><td>37</td><td>No-Show</td></tr>",
                            "<tr><td>190</td><td>37</td><td>No-Show</td></tr>",
                            "<tr><td>5</td><td>37</td><td>No-Show</td></tr>",
                            "<tr><td>43</td><td>37</td><td>No-Show</td></tr>",
                            "<tr><td>41</td><td>37</td><td>No-Show</td></tr>",
                            "<tr><td>48</td><td>37</td><td>No-Show</td></tr>",
                            "<tr><td>70</td><td>37</td><td>No-Show</td></tr>",
                            "<tr><td>56</td><td>37</td><td>No-Show</td></tr>",
                            "<tr><td>57</td><td>37</td><td>No-Show</td></tr>",
                            "<tr><td>102</td><td>37</td><td>No-Show</td></tr>",
                            "<tr><td>75</td><td>37</td><td>No-Show</td></tr>",
                            "<tr><td>131</td><td>37</td><td>No-Show</td></tr>",
                            "<tr><td>440</td><td>37</td><td>No-Show</td></tr>",
                            "<tr><td>447</td><td>37</td><td>No-Show</td></tr>",
                            "<tr><td>442</td><td>37</td><td>No-Show</td></tr>",
                            "<tr><td>474</td><td>37</td><td>No-Show</td></tr>",
                            "<tr><td>324</td><td>37</td><td>No-Show</td></tr>",
                            "<tr><td>319</td><td>37</td><td>No-Show</td></tr>",
                            "<tr><td>431</td><td>37</td><td>No-Show</td></tr>",
                            "<tr><td>424</td><td>37</td><td>No-Show</td></tr>",
                            "<tr><td>418</td><td>37</td><td>No-Show</td></tr>",
                            "<tr><td>377</td><td>37</td><td>No-Show</td></tr>",
                            "<tr><td>383</td><td>37</td><td>No-Show</td></tr>",
                            "<tr><td>370</td><td>37</td><td>No-Show</td></tr>",
                            "<tr><td>388</td><td>36</td><td>No-Show</td></tr>",
                            "<tr><td>392</td><td>36</td><td>No-Show</td></tr>",
                            "<tr><td>426</td><td>36</td><td>No-Show</td></tr>",
                            "<tr><td>401</td><td>36</td><td>No-Show</td></tr>",
                            "<tr><td>341</td><td>36</td><td>No-Show</td></tr>",
                            "<tr><td>464</td><td>36</td><td>No-Show</td></tr>",
                            "<tr><td>89</td><td>36</td><td>No-Show</td></tr>",
                            "<tr><td>103</td><td>36</td><td>No-Show</td></tr>",
                            "<tr><td>62</td><td>36</td><td>No-Show</td></tr>",
                            "<tr><td>51</td><td>36</td><td>No-Show</td></tr>",
                            "<tr><td>42</td><td>36</td><td>No-Show</td></tr>",
                            "<tr><td>25</td><td>36</td><td>No-Show</td></tr>",
                            "<tr><td>198</td><td>36</td><td>No-Show</td></tr>",
                            "<tr><td>196</td><td>36</td><td>No-Show</td></tr>",
                            "<tr><td>164</td><td>36</td><td>No-Show</td></tr>",
                            "<tr><td>181</td><td>36</td><td>No-Show</td></tr>",
                            "<tr><td>271</td><td>36</td><td>No-Show</td></tr>",
                            "<tr><td>263</td><td>36</td><td>No-Show</td></tr>",
                            "<tr><td>289</td><td>36</td><td>No-Show</td></tr>",
                            "<tr><td>248</td><td>36</td><td>No-Show</td></tr>",
                            "<tr><td>261</td><td>35</td><td>No-Show</td></tr>",
                            "<tr><td>156</td><td>35</td><td>No-Show</td></tr>",
                            "<tr><td>157</td><td>35</td><td>No-Show</td></tr>",
                            "<tr><td>6</td><td>35</td><td>No-Show</td></tr>",
                            "<tr><td>9</td><td>35</td><td>No-Show</td></tr>",
                            "<tr><td>100</td><td>35</td><td>No-Show</td></tr>",
                            "<tr><td>128</td><td>35</td><td>No-Show</td></tr>",
                            "<tr><td>118</td><td>35</td><td>No-Show</td></tr>",
                            "<tr><td>119</td><td>35</td><td>No-Show</td></tr>",
                            "<tr><td>116</td><td>35</td><td>No-Show</td></tr>",
                            "<tr><td>113</td><td>35</td><td>No-Show</td></tr>",
                            "<tr><td>450</td><td>35</td><td>No-Show</td></tr>",
                            "<tr><td>457</td><td>35</td><td>No-Show</td></tr>",
                            "<tr><td>444</td><td>35</td><td>No-Show</td></tr>",
                            "<tr><td>330</td><td>35</td><td>No-Show</td></tr>",
                            "<tr><td>320</td><td>35</td><td>No-Show</td></tr>",
                            "<tr><td>427</td><td>35</td><td>No-Show</td></tr>",
                            "<tr><td>378</td><td>35</td><td>No-Show</td></tr>",
                            "<tr><td>375</td><td>35</td><td>No-Show</td></tr>",
                            "<tr><td>369</td><td>34</td><td>No-Show</td></tr>",
                            "<tr><td>430</td><td>34</td><td>No-Show</td></tr>",
                            "<tr><td>419</td><td>34</td><td>No-Show</td></tr>",
                            "<tr><td>411</td><td>34</td><td>No-Show</td></tr>",
                            "<tr><td>356</td><td>34</td><td>No-Show</td></tr>",
                            "<tr><td>493</td><td>34</td><td>No-Show</td></tr>",
                            "<tr><td>88</td><td>34</td><td>No-Show</td></tr>",
                            "<tr><td>37</td><td>34</td><td>No-Show</td></tr>",
                            "<tr><td>72</td><td>34</td><td>No-Show</td></tr>",
                            "<tr><td>149</td><td>34</td><td>No-Show</td></tr>",
                            "<tr><td>170</td><td>34</td><td>No-Show</td></tr>",
                            "<tr><td>193</td><td>34</td><td>No-Show</td></tr>",
                            "<tr><td>286</td><td>34</td><td>No-Show</td></tr>",
                            "<tr><td>264</td><td>33</td><td>No-Show</td></tr>",
                            "<tr><td>244</td><td>33</td><td>No-Show</td></tr>",
                            "<tr><td>240</td><td>33</td><td>No-Show</td></tr>",
                            "<tr><td>213</td><td>33</td><td>No-Show</td></tr>",
                            "<tr><td>179</td><td>33</td><td>No-Show</td></tr>",
                            "<tr><td>163</td><td>33</td><td>No-Show</td></tr>",
                            "<tr><td>13</td><td>33</td><td>No-Show</td></tr>",
                            "<tr><td>14</td><td>33</td><td>No-Show</td></tr>",
                            "<tr><td>77</td><td>33</td><td>No-Show</td></tr>",
                            "<tr><td>477</td><td>33</td><td>No-Show</td></tr>",
                            "<tr><td>471</td><td>33</td><td>No-Show</td></tr>",
                            "<tr><td>480</td><td>33</td><td>No-Show</td></tr>",
                            "<tr><td>465</td><td>33</td><td>No-Show</td></tr>",
                            "<tr><td>507</td><td>33</td><td>No-Show</td></tr>",
                            "<tr><td>346</td><td>33</td><td>No-Show</td></tr>",
                            "<tr><td>413</td><td>33</td><td>No-Show</td></tr>",
                            "<tr><td>421</td><td>33</td><td>No-Show</td></tr>",
                            "<tr><td>365</td><td>33</td><td>No-Show</td></tr>",
                            "<tr><td>374</td><td>33</td><td>No-Show</td></tr>",
                            "<tr><td>382</td><td>33</td><td>No-Show</td></tr>",
                            "<tr><td>390</td><td>32</td><td>No-Show</td></tr>",
                            "<tr><td>425</td><td>32</td><td>No-Show</td></tr>",
                            "<tr><td>462</td><td>32</td><td>No-Show</td></tr>",
                            "<tr><td>454</td><td>32</td><td>No-Show</td></tr>",
                            "<tr><td>455</td><td>32</td><td>No-Show</td></tr>",
                            "<tr><td>441</td><td>32</td><td>No-Show</td></tr>",
                            "<tr><td>479</td><td>32</td><td>No-Show</td></tr>",
                            "<tr><td>135</td><td>32</td><td>No-Show</td></tr>",
                            "<tr><td>26</td><td>32</td><td>No-Show</td></tr>",
                            "<tr><td>173</td><td>32</td><td>No-Show</td></tr>",
                            "<tr><td>232</td><td>32</td><td>No-Show</td></tr>",
                            "<tr><td>254</td><td>32</td><td>No-Show</td></tr>",
                            "<tr><td>148</td><td>31</td><td>No-Show</td></tr>",
                            "<tr><td>66</td><td>31</td><td>No-Show</td></tr>",
                            "<tr><td>61</td><td>31</td><td>No-Show</td></tr>",
                            "<tr><td>54</td><td>31</td><td>No-Show</td></tr>",
                            "<tr><td>90</td><td>31</td><td>No-Show</td></tr>",
                            "<tr><td>491</td><td>31</td><td>No-Show</td></tr>",
                            "<tr><td>492</td><td>31</td><td>No-Show</td></tr>",
                            "<tr><td>498</td><td>31</td><td>No-Show</td></tr>",
                            "<tr><td>463</td><td>31</td><td>No-Show</td></tr>",
                            "<tr><td>503</td><td>31</td><td>No-Show</td></tr>",
                            "<tr><td>406</td><td>31</td><td>No-Show</td></tr>",
                            "<tr><td>391</td><td>31</td><td>No-Show</td></tr>",
                            "<tr><td>387</td><td>31</td><td>No-Show</td></tr>",
                            "<tr><td>384</td><td>31</td><td>No-Show</td></tr>",
                            "<tr><td>372</td><td>31</td><td>No-Show</td></tr>",
                            "<tr><td>339</td><td>31</td><td>No-Show</td></tr>",
                            "<tr><td>368</td><td>30</td><td>No-Show</td></tr>",
                            "<tr><td>385</td><td>30</td><td>No-Show</td></tr>",
                            "<tr><td>403</td><td>30</td><td>No-Show</td></tr>",
                            "<tr><td>404</td><td>30</td><td>No-Show</td></tr>",
                            "<tr><td>399</td><td>30</td><td>No-Show</td></tr>",
                            "<tr><td>429</td><td>30</td><td>No-Show</td></tr>",
                            "<tr><td>526</td><td>30</td><td>No-Show</td></tr>",
                            "<tr><td>467</td><td>30</td><td>No-Show</td></tr>",
                            "<tr><td>233</td><td>30</td><td>No-Show</td></tr>",
                            "<tr><td>133</td><td>29</td><td>No-Show</td></tr>",
                            "<tr><td>452</td><td>29</td><td>No-Show</td></tr>",
                            "<tr><td>485</td><td>29</td><td>No-Show</td></tr>",
                            "<tr><td>469</td><td>29</td><td>No-Show</td></tr>",
                            "<tr><td>475</td><td>29</td><td>No-Show</td></tr>",
                            "<tr><td>523</td><td>29</td><td>No-Show</td></tr>",
                            "<tr><td>428</td><td>29</td><td>No-Show</td></tr>",
                            "<tr><td>373</td><td>29</td><td>No-Show</td></tr>",
                            "<tr><td>333</td><td>28</td><td>No-Show</td></tr>",
                            "<tr><td>517</td><td>28</td><td>No-Show</td></tr>",
                            "<tr><td>470</td><td>28</td><td>No-Show</td></tr>",
                            "<tr><td>443</td><td>28</td><td>No-Show</td></tr>",
                            "<tr><td>439</td><td>28</td><td>No-Show</td></tr>",
                            "<tr><td>45</td><td>28</td><td>No-Show</td></tr>",
                            "<tr><td>445</td><td>27</td><td>No-Show</td></tr>",
                            "<tr><td>434</td><td>27</td><td>No-Show</td></tr>",
                            "<tr><td>486</td><td>27</td><td>No-Show</td></tr>",
                            "<tr><td>495</td><td>27</td><td>No-Show</td></tr>",
                            "<tr><td>502</td><td>27</td><td>No-Show</td></tr>",
                            "<tr><td>386</td><td>27</td><td>No-Show</td></tr>",
                            "<tr><td>422</td><td>27</td><td>No-Show</td></tr>",
                            "<tr><td>416</td><td>27</td><td>No-Show</td></tr>",
                            "<tr><td>423</td><td>26</td><td>No-Show</td></tr>",
                            "<tr><td>499</td><td>26</td><td>No-Show</td></tr>",
                            "<tr><td>481</td><td>26</td><td>No-Show</td></tr>",
                            "<tr><td>472</td><td>26</td><td>No-Show</td></tr>",
                            "<tr><td>436</td><td>26</td><td>No-Show</td></tr>",
                            "<tr><td>437</td><td>26</td><td>No-Show</td></tr>",
                            "<tr><td>451</td><td>26</td><td>No-Show</td></tr>",
                            "<tr><td>460</td><td>26</td><td>No-Show</td></tr>",
                            "<tr><td>518</td><td>26</td><td>No-Show</td></tr>",
                            "<tr><td>512</td><td>25</td><td>No-Show</td></tr>",
                            "<tr><td>541</td><td>25</td><td>No-Show</td></tr>",
                            "<tr><td>564</td><td>25</td><td>No-Show</td></tr>",
                            "<tr><td>468</td><td>25</td><td>No-Show</td></tr>",
                            "<tr><td>456</td><td>25</td><td>No-Show</td></tr>",
                            "<tr><td>458</td><td>25</td><td>No-Show</td></tr>",
                            "<tr><td>473</td><td>25</td><td>No-Show</td></tr>",
                            "<tr><td>487</td><td>25</td><td>No-Show</td></tr>",
                            "<tr><td>500</td><td>25</td><td>No-Show</td></tr>",
                            "<tr><td>484</td><td>25</td><td>No-Show</td></tr>",
                            "<tr><td>489</td><td>25</td><td>No-Show</td></tr>",
                            "<tr><td>394</td><td>25</td><td>No-Show</td></tr>",
                            "<tr><td>398</td><td>24</td><td>No-Show</td></tr>",
                            "<tr><td>501</td><td>24</td><td>No-Show</td></tr>",
                            "<tr><td>478</td><td>24</td><td>No-Show</td></tr>",
                            "<tr><td>453</td><td>24</td><td>No-Show</td></tr>",
                            "<tr><td>543</td><td>24</td><td>No-Show</td></tr>",
                            "<tr><td>514</td><td>24</td><td>No-Show</td></tr>",
                            "<tr><td>506</td><td>24</td><td>No-Show</td></tr>",
                            "<tr><td>510</td><td>24</td><td>No-Show</td></tr>",
                            "<tr><td>582</td><td>24</td><td>No-Show</td></tr>",
                            "<tr><td>509</td><td>23</td><td>No-Show</td></tr>",
                            "<tr><td>525</td><td>23</td><td>No-Show</td></tr>",
                            "<tr><td>466</td><td>23</td><td>No-Show</td></tr>",
                            "<tr><td>438</td><td>23</td><td>No-Show</td></tr>",
                            "<tr><td>449</td><td>23</td><td>No-Show</td></tr>",
                            "<tr><td>476</td><td>23</td><td>No-Show</td></tr>",
                            "<tr><td>497</td><td>23</td><td>No-Show</td></tr>",
                            "<tr><td>448</td><td>22</td><td>No-Show</td></tr>",
                            "<tr><td>461</td><td>22</td><td>No-Show</td></tr>",
                            "<tr><td>536</td><td>22</td><td>No-Show</td></tr>",
                            "<tr><td>511</td><td>22</td><td>No-Show</td></tr>",
                            "<tr><td>520</td><td>22</td><td>No-Show</td></tr>",
                            "<tr><td>558</td><td>22</td><td>No-Show</td></tr>",
                            "<tr><td>561</td><td>21</td><td>No-Show</td></tr>",
                            "<tr><td>540</td><td>21</td><td>No-Show</td></tr>",
                            "<tr><td>505</td><td>21</td><td>No-Show</td></tr>",
                            "<tr><td>537</td><td>21</td><td>No-Show</td></tr>",
                            "<tr><td>532</td><td>21</td><td>No-Show</td></tr>",
                            "<tr><td>496</td><td>21</td><td>No-Show</td></tr>",
                            "<tr><td>490</td><td>21</td><td>No-Show</td></tr>",
                            "<tr><td>594</td><td>21</td><td>No-Show</td></tr>",
                            "<tr><td>592</td><td>20</td><td>No-Show</td></tr>",
                            "<tr><td>459</td><td>20</td><td>No-Show</td></tr>",
                            "<tr><td>535</td><td>20</td><td>No-Show</td></tr>",
                            "<tr><td>504</td><td>20</td><td>No-Show</td></tr>",
                            "<tr><td>513</td><td>20</td><td>No-Show</td></tr>",
                            "<tr><td>545</td><td>20</td><td>No-Show</td></tr>",
                            "<tr><td>552</td><td>20</td><td>No-Show</td></tr>",
                            "<tr><td>555</td><td>20</td><td>No-Show</td></tr>",
                            "<tr><td>539</td><td>19</td><td>No-Show</td></tr>",
                            "<tr><td>542</td><td>19</td><td>No-Show</td></tr>",
                            "<tr><td>562</td><td>19</td><td>No-Show</td></tr>",
                            "<tr><td>554</td><td>19</td><td>No-Show</td></tr>",
                            "<tr><td>521</td><td>19</td><td>No-Show</td></tr>",
                            "<tr><td>519</td><td>19</td><td>No-Show</td></tr>",
                            "<tr><td>534</td><td>19</td><td>No-Show</td></tr>",
                            "<tr><td>527</td><td>19</td><td>No-Show</td></tr>",
                            "<tr><td>482</td><td>19</td><td>No-Show</td></tr>",
                            "<tr><td>483</td><td>18</td><td>No-Show</td></tr>",
                            "<tr><td>488</td><td>18</td><td>No-Show</td></tr>",
                            "<tr><td>494</td><td>18</td><td>No-Show</td></tr>",
                            "<tr><td>522</td><td>18</td><td>No-Show</td></tr>",
                            "<tr><td>515</td><td>18</td><td>No-Show</td></tr>",
                            "<tr><td>572</td><td>18</td><td>No-Show</td></tr>",
                            "<tr><td>546</td><td>18</td><td>No-Show</td></tr>",
                            "<tr><td>544</td><td>18</td><td>No-Show</td></tr>",
                            "<tr><td>550</td><td>18</td><td>No-Show</td></tr>",
                            "<tr><td>551</td><td>18</td><td>No-Show</td></tr>",
                            "<tr><td>591</td><td>18</td><td>No-Show</td></tr>",
                            "<tr><td>556</td><td>17</td><td>No-Show</td></tr>",
                            "<tr><td>568</td><td>17</td><td>No-Show</td></tr>",
                            "<tr><td>516</td><td>17</td><td>No-Show</td></tr>",
                            "<tr><td>538</td><td>17</td><td>No-Show</td></tr>",
                            "<tr><td>524</td><td>16</td><td>No-Show</td></tr>",
                            "<tr><td>563</td><td>16</td><td>No-Show</td></tr>",
                            "<tr><td>547</td><td>16</td><td>No-Show</td></tr>",
                            "<tr><td>548</td><td>16</td><td>No-Show</td></tr>",
                            "<tr><td>596</td><td>16</td><td>No-Show</td></tr>",
                            "<tr><td>597</td><td>15</td><td>No-Show</td></tr>",
                            "<tr><td>593</td><td>15</td><td>No-Show</td></tr>",
                            "<tr><td>609</td><td>15</td><td>No-Show</td></tr>",
                            "<tr><td>579</td><td>15</td><td>No-Show</td></tr>",
                            "<tr><td>575</td><td>15</td><td>No-Show</td></tr>",
                            "<tr><td>616</td><td>15</td><td>No-Show</td></tr>",
                            "<tr><td>638</td><td>15</td><td>No-Show</td></tr>",
                            "<tr><td>570</td><td>15</td><td>No-Show</td></tr>",
                            "<tr><td>571</td><td>15</td><td>No-Show</td></tr>",
                            "<tr><td>560</td><td>15</td><td>No-Show</td></tr>",
                            "<tr><td>528</td><td>15</td><td>No-Show</td></tr>",
                            "<tr><td>533</td><td>15</td><td>No-Show</td></tr>",
                            "<tr><td>530</td><td>15</td><td>No-Show</td></tr>",
                            "<tr><td>508</td><td>15</td><td>No-Show</td></tr>",
                            "<tr><td>531</td><td>14</td><td>No-Show</td></tr>",
                            "<tr><td>557</td><td>14</td><td>No-Show</td></tr>",
                            "<tr><td>553</td><td>14</td><td>No-Show</td></tr>",
                            "<tr><td>635</td><td>14</td><td>No-Show</td></tr>",
                            "<tr><td>622</td><td>14</td><td>No-Show</td></tr>",
                            "<tr><td>577</td><td>14</td><td>No-Show</td></tr>",
                            "<tr><td>584</td><td>14</td><td>No-Show</td></tr>",
                            "<tr><td>610</td><td>14</td><td>No-Show</td></tr>",
                            "<tr><td>606</td><td>14</td><td>No-Show</td></tr>",
                            "<tr><td>595</td><td>14</td><td>No-Show</td></tr>",
                            "<tr><td>599</td><td>14</td><td>No-Show</td></tr>",
                            "<tr><td>602</td><td>13</td><td>No-Show</td></tr>",
                            "<tr><td>604</td><td>13</td><td>No-Show</td></tr>",
                            "<tr><td>605</td><td>13</td><td>No-Show</td></tr>",
                            "<tr><td>588</td><td>13</td><td>No-Show</td></tr>",
                            "<tr><td>578</td><td>13</td><td>No-Show</td></tr>",
                            "<tr><td>576</td><td>13</td><td>No-Show</td></tr>",
                            "<tr><td>615</td><td>13</td><td>No-Show</td></tr>",
                            "<tr><td>613</td><td>13</td><td>No-Show</td></tr>",
                            "<tr><td>630</td><td>13</td><td>No-Show</td></tr>",
                            "<tr><td>549</td><td>13</td><td>No-Show</td></tr>",
                            "<tr><td>565</td><td>13</td><td>No-Show</td></tr>",
                            "<tr><td>566</td><td>13</td><td>No-Show</td></tr>",
                            "<tr><td>529</td><td>13</td><td>No-Show</td></tr>",
                            "<tr><td>559</td><td>12</td><td>No-Show</td></tr>",
                            "<tr><td>573</td><td>12</td><td>No-Show</td></tr>",
                            "<tr><td>569</td><td>12</td><td>No-Show</td></tr>",
                            "<tr><td>601</td><td>12</td><td>No-Show</td></tr>",
                            "<tr><td>618</td><td>12</td><td>No-Show</td></tr>",
                            "<tr><td>619</td><td>12</td><td>No-Show</td></tr>",
                            "<tr><td>580</td><td>12</td><td>No-Show</td></tr>",
                            "<tr><td>583</td><td>12</td><td>No-Show</td></tr>",
                            "<tr><td>590</td><td>12</td><td>No-Show</td></tr>",
                            "<tr><td>585</td><td>12</td><td>No-Show</td></tr>",
                            "<tr><td>607</td><td>12</td><td>No-Show</td></tr>",
                            "<tr><td>629</td><td>12</td><td>No-Show</td></tr>",
                            "<tr><td>646</td><td>11</td><td>No-Show</td></tr>",
                            "<tr><td>600</td><td>11</td><td>No-Show</td></tr>",
                            "<tr><td>586</td><td>11</td><td>No-Show</td></tr>",
                            "<tr><td>620</td><td>11</td><td>No-Show</td></tr>",
                            "<tr><td>624</td><td>11</td><td>No-Show</td></tr>",
                            "<tr><td>627</td><td>11</td><td>No-Show</td></tr>",
                            "<tr><td>567</td><td>11</td><td>No-Show</td></tr>",
                            "<tr><td>631</td><td>10</td><td>No-Show</td></tr>",
                            "<tr><td>639</td><td>10</td><td>No-Show</td></tr>",
                            "<tr><td>617</td><td>10</td><td>No-Show</td></tr>",
                            "<tr><td>581</td><td>10</td><td>No-Show</td></tr>",
                            "<tr><td>598</td><td>10</td><td>No-Show</td></tr>",
                            "<tr><td>608</td><td>10</td><td>No-Show</td></tr>",
                            "<tr><td>603</td><td>10</td><td>No-Show</td></tr>",
                            "<tr><td>652</td><td>10</td><td>No-Show</td></tr>",
                            "<tr><td>654</td><td>10</td><td>No-Show</td></tr>",
                            "<tr><td>659</td><td>9</td><td>No-Show</td></tr>",
                            "<tr><td>653</td><td>9</td><td>No-Show</td></tr>",
                            "<tr><td>702</td><td>9</td><td>No-Show</td></tr>",
                            "<tr><td>623</td><td>9</td><td>No-Show</td></tr>",
                            "<tr><td>626</td><td>9</td><td>No-Show</td></tr>",
                            "<tr><td>621</td><td>9</td><td>No-Show</td></tr>",
                            "<tr><td>612</td><td>9</td><td>No-Show</td></tr>",
                            "<tr><td>628</td><td>9</td><td>No-Show</td></tr>",
                            "<tr><td>632</td><td>8</td><td>No-Show</td></tr>",
                            "<tr><td>640</td><td>8</td><td>No-Show</td></tr>",
                            "<tr><td>644</td><td>8</td><td>No-Show</td></tr>",
                            "<tr><td>587</td><td>8</td><td>No-Show</td></tr>",
                            "<tr><td>699</td><td>8</td><td>No-Show</td></tr>",
                            "<tr><td>649</td><td>8</td><td>No-Show</td></tr>",
                            "<tr><td>650</td><td>8</td><td>No-Show</td></tr>",
                            "<tr><td>651</td><td>8</td><td>No-Show</td></tr>",
                            "<tr><td>660</td><td>8</td><td>No-Show</td></tr>",
                            "<tr><td>655</td><td>8</td><td>No-Show</td></tr>",
                            "<tr><td>657</td><td>8</td><td>No-Show</td></tr>",
                            "<tr><td>673</td><td>8</td><td>No-Show</td></tr>",
                            "<tr><td>674</td><td>7</td><td>No-Show</td></tr>",
                            "<tr><td>675</td><td>7</td><td>No-Show</td></tr>",
                            "<tr><td>668</td><td>7</td><td>No-Show</td></tr>",
                            "<tr><td>671</td><td>7</td><td>No-Show</td></tr>",
                            "<tr><td>661</td><td>7</td><td>No-Show</td></tr>",
                            "<tr><td>693</td><td>7</td><td>No-Show</td></tr>",
                            "<tr><td>677</td><td>7</td><td>No-Show</td></tr>",
                            "<tr><td>589</td><td>7</td><td>No-Show</td></tr>",
                            "<tr><td>611</td><td>7</td><td>No-Show</td></tr>",
                            "<tr><td>642</td><td>7</td><td>No-Show</td></tr>",
                            "<tr><td>633</td><td>7</td><td>No-Show</td></tr>",
                            "<tr><td>634</td><td>6</td><td>No-Show</td></tr>",
                            "<tr><td>636</td><td>6</td><td>No-Show</td></tr>",
                            "<tr><td>625</td><td>6</td><td>No-Show</td></tr>",
                            "<tr><td>692</td><td>6</td><td>No-Show</td></tr>",
                            "<tr><td>658</td><td>6</td><td>No-Show</td></tr>",
                            "<tr><td>648</td><td>6</td><td>No-Show</td></tr>",
                            "<tr><td>669</td><td>6</td><td>No-Show</td></tr>",
                            "<tr><td>663</td><td>6</td><td>No-Show</td></tr>",
                            "<tr><td>666</td><td>6</td><td>No-Show</td></tr>",
                            "<tr><td>574</td><td>6</td><td>No-Show</td></tr>",
                            "<tr><td>667</td><td>5</td><td>No-Show</td></tr>",
                            "<tr><td>664</td><td>5</td><td>No-Show</td></tr>",
                            "<tr><td>665</td><td>5</td><td>No-Show</td></tr>",
                            "<tr><td>672</td><td>5</td><td>No-Show</td></tr>",
                            "<tr><td>676</td><td>5</td><td>No-Show</td></tr>",
                            "<tr><td>680</td><td>5</td><td>No-Show</td></tr>",
                            "<tr><td>681</td><td>5</td><td>No-Show</td></tr>",
                            "<tr><td>647</td><td>5</td><td>No-Show</td></tr>",
                            "<tr><td>656</td><td>5</td><td>No-Show</td></tr>",
                            "<tr><td>662</td><td>5</td><td>No-Show</td></tr>",
                            "<tr><td>678</td><td>5</td><td>No-Show</td></tr>",
                            "<tr><td>686</td><td>5</td><td>No-Show</td></tr>",
                            "<tr><td>679</td><td>4</td><td>No-Show</td></tr>",
                            "<tr><td>684</td><td>4</td><td>No-Show</td></tr>",
                            "<tr><td>685</td><td>4</td><td>No-Show</td></tr>",
                            "<tr><td>696</td><td>4</td><td>No-Show</td></tr>",
                            "<tr><td>704</td><td>4</td><td>No-Show</td></tr>",
                            "<tr><td>637</td><td>4</td><td>No-Show</td></tr>",
                            "<tr><td>641</td><td>4</td><td>No-Show</td></tr>",
                            "<tr><td>645</td><td>3</td><td>No-Show</td></tr>",
                            "<tr><td>614</td><td>3</td><td>No-Show</td></tr>",
                            "<tr><td>711</td><td>3</td><td>No-Show</td></tr>",
                            "<tr><td>712</td><td>3</td><td>No-Show</td></tr>",
                            "<tr><td>716</td><td>3</td><td>No-Show</td></tr>",
                            "<tr><td>717</td><td>3</td><td>No-Show</td></tr>",
                            "<tr><td>697</td><td>3</td><td>No-Show</td></tr>",
                            "<tr><td>694</td><td>3</td><td>No-Show</td></tr>",
                            "<tr><td>701</td><td>3</td><td>No-Show</td></tr>",
                            "<tr><td>687</td><td>3</td><td>No-Show</td></tr>",
                            "<tr><td>690</td><td>3</td><td>No-Show</td></tr>",
                            "<tr><td>691</td><td>3</td><td>No-Show</td></tr>",
                            "<tr><td>682</td><td>3</td><td>No-Show</td></tr>",
                            "<tr><td>683</td><td>3</td><td>No-Show</td></tr>",
                            "<tr><td>670</td><td>2</td><td>No-Show</td></tr>",
                            "<tr><td>688</td><td>2</td><td>No-Show</td></tr>",
                            "<tr><td>700</td><td>2</td><td>No-Show</td></tr>",
                            "<tr><td>695</td><td>2</td><td>No-Show</td></tr>",
                            "<tr><td>718</td><td>2</td><td>No-Show</td></tr>",
                            "<tr><td>715</td><td>2</td><td>No-Show</td></tr>",
                            "<tr><td>707</td><td>2</td><td>No-Show</td></tr>",
                            "<tr><td>709</td><td>2</td><td>No-Show</td></tr>",
                            "<tr><td>643</td><td>2</td><td>No-Show</td></tr>",
                            "<tr><td>710</td><td>1</td><td>No-Show</td></tr>",
                            "<tr><td>713</td><td>1</td><td>No-Show</td></tr>",
                            "<tr><td>705</td><td>1</td><td>No-Show</td></tr>",
                            "<tr><td>706</td><td>1</td><td>No-Show</td></tr>",
                            "<tr><td>703</td><td>1</td><td>No-Show</td></tr>",
                            "<tr><td>719</td><td>1</td><td>No-Show</td></tr>",
                            "<tr><td>720</td><td>1</td><td>No-Show</td></tr>",
                            "<tr><td>722</td><td>1</td><td>No-Show</td></tr>",
                            "<tr><td>725</td><td>1</td><td>No-Show</td></tr>",
                            "</table>"
                        ]
                    }
                }
            ],
            "execution_count": 15
        }
    ]
}